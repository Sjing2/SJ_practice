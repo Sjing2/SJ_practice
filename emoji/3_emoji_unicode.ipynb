{
  "nbformat": 4,
  "nbformat_minor": 0,
  "metadata": {
    "colab": {
      "name": "emoji_unicode_03.ipynb",
      "provenance": [],
      "authorship_tag": "ABX9TyMYTd2zIHNpK67aI8iFDC5B",
      "include_colab_link": true
    },
    "kernelspec": {
      "name": "python3",
      "display_name": "Python 3"
    }
  },
  "cells": [
    {
      "cell_type": "markdown",
      "metadata": {
        "id": "view-in-github",
        "colab_type": "text"
      },
      "source": [
        "<a href=\"https://colab.research.google.com/github/Sjing2/SJ_practice/blob/master/emoji/emoji_unicode_03.ipynb\" target=\"_parent\"><img src=\"https://colab.research.google.com/assets/colab-badge.svg\" alt=\"Open In Colab\"/></a>"
      ]
    },
    {
      "cell_type": "code",
      "metadata": {
        "id": "-e8X-O4IsURo",
        "colab_type": "code",
        "colab": {
          "base_uri": "https://localhost:8080/",
          "height": 193
        },
        "outputId": "3aed3cf3-748d-45d1-c495-c436577d739a"
      },
      "source": [
        "!pip install emoji"
      ],
      "execution_count": 1,
      "outputs": [
        {
          "output_type": "stream",
          "text": [
            "Collecting emoji\n",
            "\u001b[?25l  Downloading https://files.pythonhosted.org/packages/ff/1c/1f1457fe52d0b30cbeebfd578483cedb3e3619108d2d5a21380dfecf8ffd/emoji-0.6.0.tar.gz (51kB)\n",
            "\r\u001b[K     |██████▍                         | 10kB 16.1MB/s eta 0:00:01\r\u001b[K     |████████████▉                   | 20kB 1.7MB/s eta 0:00:01\r\u001b[K     |███████████████████▎            | 30kB 2.3MB/s eta 0:00:01\r\u001b[K     |█████████████████████████▊      | 40kB 2.5MB/s eta 0:00:01\r\u001b[K     |████████████████████████████████| 51kB 1.5MB/s \n",
            "\u001b[?25hBuilding wheels for collected packages: emoji\n",
            "  Building wheel for emoji (setup.py) ... \u001b[?25l\u001b[?25hdone\n",
            "  Created wheel for emoji: filename=emoji-0.6.0-cp36-none-any.whl size=49716 sha256=2a7641e1b58513db190dcb5376e283207da387d6aae00063a464dfee4aac50f1\n",
            "  Stored in directory: /root/.cache/pip/wheels/46/2c/8b/9dcf5216ca68e14e0320e283692dce8ae321cdc01e73e17796\n",
            "Successfully built emoji\n",
            "Installing collected packages: emoji\n",
            "Successfully installed emoji-0.6.0\n"
          ],
          "name": "stdout"
        }
      ]
    },
    {
      "cell_type": "code",
      "metadata": {
        "id": "3LIMiU60tGqh",
        "colab_type": "code",
        "colab": {
          "base_uri": "https://localhost:8080/",
          "height": 125
        },
        "outputId": "2f6352b5-4973-45a1-b829-0707bc422628"
      },
      "source": [
        "from google.colab import drive\n",
        "drive.mount('/content/gdrive/')"
      ],
      "execution_count": 2,
      "outputs": [
        {
          "output_type": "stream",
          "text": [
            "Go to this URL in a browser: https://accounts.google.com/o/oauth2/auth?client_id=947318989803-6bn6qk8qdgf4n4g3pfee6491hc0brc4i.apps.googleusercontent.com&redirect_uri=urn%3aietf%3awg%3aoauth%3a2.0%3aoob&scope=email%20https%3a%2f%2fwww.googleapis.com%2fauth%2fdocs.test%20https%3a%2f%2fwww.googleapis.com%2fauth%2fdrive%20https%3a%2f%2fwww.googleapis.com%2fauth%2fdrive.photos.readonly%20https%3a%2f%2fwww.googleapis.com%2fauth%2fpeopleapi.readonly&response_type=code\n",
            "\n",
            "Enter your authorization code:\n",
            "··········\n",
            "Mounted at /content/gdrive/\n"
          ],
          "name": "stdout"
        }
      ]
    },
    {
      "cell_type": "code",
      "metadata": {
        "id": "MoOymFl3tGu6",
        "colab_type": "code",
        "colab": {}
      },
      "source": [
        "import pandas as pd\n",
        "import numpy as np\n",
        "import json\n",
        "import emoji\n",
        "from collections import Counter"
      ],
      "execution_count": 3,
      "outputs": []
    },
    {
      "cell_type": "code",
      "metadata": {
        "id": "4su_Pe0gtGxP",
        "colab_type": "code",
        "colab": {}
      },
      "source": [
        "df = pd.read_csv('/content/gdrive/My Drive/프로젝트/emoji_add_sentiment.csv', index_col =[0])"
      ],
      "execution_count": 4,
      "outputs": []
    },
    {
      "cell_type": "code",
      "metadata": {
        "id": "Lh_WO-ZxtGz2",
        "colab_type": "code",
        "colab": {
          "base_uri": "https://localhost:8080/",
          "height": 402
        },
        "outputId": "9105443a-d2f5-4b51-fd58-93376a5a4d0e"
      },
      "source": [
        "df"
      ],
      "execution_count": 5,
      "outputs": [
        {
          "output_type": "execute_result",
          "data": {
            "text/html": [
              "<div>\n",
              "<style scoped>\n",
              "    .dataframe tbody tr th:only-of-type {\n",
              "        vertical-align: middle;\n",
              "    }\n",
              "\n",
              "    .dataframe tbody tr th {\n",
              "        vertical-align: top;\n",
              "    }\n",
              "\n",
              "    .dataframe thead th {\n",
              "        text-align: right;\n",
              "    }\n",
              "</style>\n",
              "<table border=\"1\" class=\"dataframe\">\n",
              "  <thead>\n",
              "    <tr style=\"text-align: right;\">\n",
              "      <th></th>\n",
              "      <th>e_count</th>\n",
              "      <th>emoji</th>\n",
              "      <th>sentiment</th>\n",
              "      <th>unicode</th>\n",
              "    </tr>\n",
              "  </thead>\n",
              "  <tbody>\n",
              "    <tr>\n",
              "      <th>1</th>\n",
              "      <td>128883</td>\n",
              "      <td>🏻</td>\n",
              "      <td>neu</td>\n",
              "      <td>NaN</td>\n",
              "    </tr>\n",
              "    <tr>\n",
              "      <th>2</th>\n",
              "      <td>117109</td>\n",
              "      <td>👍</td>\n",
              "      <td>pos</td>\n",
              "      <td>NaN</td>\n",
              "    </tr>\n",
              "    <tr>\n",
              "      <th>3</th>\n",
              "      <td>91763</td>\n",
              "      <td>❤</td>\n",
              "      <td>pos</td>\n",
              "      <td>NaN</td>\n",
              "    </tr>\n",
              "    <tr>\n",
              "      <th>4</th>\n",
              "      <td>88323</td>\n",
              "      <td>♥</td>\n",
              "      <td>pos</td>\n",
              "      <td>NaN</td>\n",
              "    </tr>\n",
              "    <tr>\n",
              "      <th>5</th>\n",
              "      <td>83084</td>\n",
              "      <td>✔</td>\n",
              "      <td>neu</td>\n",
              "      <td>NaN</td>\n",
              "    </tr>\n",
              "    <tr>\n",
              "      <th>...</th>\n",
              "      <td>...</td>\n",
              "      <td>...</td>\n",
              "      <td>...</td>\n",
              "      <td>...</td>\n",
              "    </tr>\n",
              "    <tr>\n",
              "      <th>96</th>\n",
              "      <td>6993</td>\n",
              "      <td>💖</td>\n",
              "      <td>pos</td>\n",
              "      <td>NaN</td>\n",
              "    </tr>\n",
              "    <tr>\n",
              "      <th>97</th>\n",
              "      <td>6911</td>\n",
              "      <td>💗</td>\n",
              "      <td>pos</td>\n",
              "      <td>NaN</td>\n",
              "    </tr>\n",
              "    <tr>\n",
              "      <th>98</th>\n",
              "      <td>6859</td>\n",
              "      <td>☀</td>\n",
              "      <td>neu</td>\n",
              "      <td>NaN</td>\n",
              "    </tr>\n",
              "    <tr>\n",
              "      <th>99</th>\n",
              "      <td>6812</td>\n",
              "      <td>◾</td>\n",
              "      <td>neu</td>\n",
              "      <td>NaN</td>\n",
              "    </tr>\n",
              "    <tr>\n",
              "      <th>100</th>\n",
              "      <td>6798</td>\n",
              "      <td>👌</td>\n",
              "      <td>pos</td>\n",
              "      <td>NaN</td>\n",
              "    </tr>\n",
              "  </tbody>\n",
              "</table>\n",
              "<p>100 rows × 4 columns</p>\n",
              "</div>"
            ],
            "text/plain": [
              "     e_count emoji sentiment  unicode\n",
              "1     128883     🏻       neu      NaN\n",
              "2     117109     👍       pos      NaN\n",
              "3      91763     ❤       pos      NaN\n",
              "4      88323     ♥       pos      NaN\n",
              "5      83084     ✔       neu      NaN\n",
              "..       ...   ...       ...      ...\n",
              "96      6993     💖       pos      NaN\n",
              "97      6911     💗       pos      NaN\n",
              "98      6859     ☀       neu      NaN\n",
              "99      6812     ◾       neu      NaN\n",
              "100     6798     👌       pos      NaN\n",
              "\n",
              "[100 rows x 4 columns]"
            ]
          },
          "metadata": {
            "tags": []
          },
          "execution_count": 5
        }
      ]
    },
    {
      "cell_type": "code",
      "metadata": {
        "id": "We4iYCIxtG4T",
        "colab_type": "code",
        "colab": {}
      },
      "source": [
        "df.loc[100, ['unicode']] = 'U+1F44C'"
      ],
      "execution_count": 206,
      "outputs": []
    },
    {
      "cell_type": "code",
      "metadata": {
        "id": "QuytEf3ytG2X",
        "colab_type": "code",
        "colab": {
          "base_uri": "https://localhost:8080/",
          "height": 343
        },
        "outputId": "4661dd1b-4e75-4b92-850a-bfba46eb6e0d"
      },
      "source": [
        "df[90:100]"
      ],
      "execution_count": 207,
      "outputs": [
        {
          "output_type": "execute_result",
          "data": {
            "text/html": [
              "<div>\n",
              "<style scoped>\n",
              "    .dataframe tbody tr th:only-of-type {\n",
              "        vertical-align: middle;\n",
              "    }\n",
              "\n",
              "    .dataframe tbody tr th {\n",
              "        vertical-align: top;\n",
              "    }\n",
              "\n",
              "    .dataframe thead th {\n",
              "        text-align: right;\n",
              "    }\n",
              "</style>\n",
              "<table border=\"1\" class=\"dataframe\">\n",
              "  <thead>\n",
              "    <tr style=\"text-align: right;\">\n",
              "      <th></th>\n",
              "      <th>e_count</th>\n",
              "      <th>emoji</th>\n",
              "      <th>sentiment</th>\n",
              "      <th>unicode</th>\n",
              "    </tr>\n",
              "  </thead>\n",
              "  <tbody>\n",
              "    <tr>\n",
              "      <th>91</th>\n",
              "      <td>7802</td>\n",
              "      <td>🌟</td>\n",
              "      <td>neu</td>\n",
              "      <td>U+1F31F</td>\n",
              "    </tr>\n",
              "    <tr>\n",
              "      <th>92</th>\n",
              "      <td>7491</td>\n",
              "      <td>🎉</td>\n",
              "      <td>pos</td>\n",
              "      <td>U+1F389</td>\n",
              "    </tr>\n",
              "    <tr>\n",
              "      <th>93</th>\n",
              "      <td>7349</td>\n",
              "      <td>▫</td>\n",
              "      <td>neu</td>\n",
              "      <td>U+25AB</td>\n",
              "    </tr>\n",
              "    <tr>\n",
              "      <th>94</th>\n",
              "      <td>7346</td>\n",
              "      <td>📷</td>\n",
              "      <td>neu</td>\n",
              "      <td>U+1F4F7</td>\n",
              "    </tr>\n",
              "    <tr>\n",
              "      <th>95</th>\n",
              "      <td>7306</td>\n",
              "      <td>🙇</td>\n",
              "      <td>neu</td>\n",
              "      <td>U+1F647</td>\n",
              "    </tr>\n",
              "    <tr>\n",
              "      <th>96</th>\n",
              "      <td>6993</td>\n",
              "      <td>💖</td>\n",
              "      <td>pos</td>\n",
              "      <td>U+1F496</td>\n",
              "    </tr>\n",
              "    <tr>\n",
              "      <th>97</th>\n",
              "      <td>6911</td>\n",
              "      <td>💗</td>\n",
              "      <td>pos</td>\n",
              "      <td>U+1F497</td>\n",
              "    </tr>\n",
              "    <tr>\n",
              "      <th>98</th>\n",
              "      <td>6859</td>\n",
              "      <td>☀</td>\n",
              "      <td>neu</td>\n",
              "      <td>U+2600</td>\n",
              "    </tr>\n",
              "    <tr>\n",
              "      <th>99</th>\n",
              "      <td>6812</td>\n",
              "      <td>◾</td>\n",
              "      <td>neu</td>\n",
              "      <td>U+25FE</td>\n",
              "    </tr>\n",
              "    <tr>\n",
              "      <th>100</th>\n",
              "      <td>6798</td>\n",
              "      <td>👌</td>\n",
              "      <td>pos</td>\n",
              "      <td>U+1F44C</td>\n",
              "    </tr>\n",
              "  </tbody>\n",
              "</table>\n",
              "</div>"
            ],
            "text/plain": [
              "     e_count emoji sentiment  unicode\n",
              "91      7802     🌟       neu  U+1F31F\n",
              "92      7491     🎉       pos  U+1F389\n",
              "93      7349     ▫       neu   U+25AB\n",
              "94      7346     📷       neu  U+1F4F7\n",
              "95      7306     🙇       neu  U+1F647\n",
              "96      6993     💖       pos  U+1F496\n",
              "97      6911     💗       pos  U+1F497\n",
              "98      6859     ☀       neu   U+2600\n",
              "99      6812     ◾       neu   U+25FE\n",
              "100     6798     👌       pos  U+1F44C"
            ]
          },
          "metadata": {
            "tags": []
          },
          "execution_count": 207
        }
      ]
    },
    {
      "cell_type": "code",
      "metadata": {
        "id": "a0_yS4k3tGs5",
        "colab_type": "code",
        "colab": {}
      },
      "source": [
        "df.to_csv('/content/gdrive/My Drive/프로젝트/emoji_add.csv')"
      ],
      "execution_count": 208,
      "outputs": []
    }
  ]
}