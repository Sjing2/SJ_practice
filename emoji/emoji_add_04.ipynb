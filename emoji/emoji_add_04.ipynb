{
  "nbformat": 4,
  "nbformat_minor": 0,
  "metadata": {
    "colab": {
      "name": "emoji_add_04.ipynb",
      "provenance": [],
      "collapsed_sections": [],
      "authorship_tag": "ABX9TyN5oaltG3KWe4565nMF43bq",
      "include_colab_link": true
    },
    "kernelspec": {
      "name": "python3",
      "display_name": "Python 3"
    }
  },
  "cells": [
    {
      "cell_type": "markdown",
      "metadata": {
        "id": "view-in-github",
        "colab_type": "text"
      },
      "source": [
        "<a href=\"https://colab.research.google.com/github/Sjing2/SJ_practice/blob/master/emoji/emoji_add_04.ipynb\" target=\"_parent\"><img src=\"https://colab.research.google.com/assets/colab-badge.svg\" alt=\"Open In Colab\"/></a>"
      ]
    },
    {
      "cell_type": "code",
      "metadata": {
        "id": "M6U8u35o4Izl",
        "colab_type": "code",
        "colab": {
          "base_uri": "https://localhost:8080/",
          "height": 34
        },
        "outputId": "a9774ca2-9962-4d7d-abd4-55303fc47506"
      },
      "source": [
        "!pip install emoji"
      ],
      "execution_count": 5,
      "outputs": [
        {
          "output_type": "stream",
          "text": [
            "Requirement already satisfied: emoji in /usr/local/lib/python3.6/dist-packages (0.6.0)\n"
          ],
          "name": "stdout"
        }
      ]
    },
    {
      "cell_type": "code",
      "metadata": {
        "id": "_ikrDVdR4MgJ",
        "colab_type": "code",
        "colab": {
          "base_uri": "https://localhost:8080/",
          "height": 34
        },
        "outputId": "ce6e90f5-d648-4adf-92b0-bfd4912bb6d5"
      },
      "source": [
        "from google.colab import drive\n",
        "drive.mount('/content/gdrive/')"
      ],
      "execution_count": 6,
      "outputs": [
        {
          "output_type": "stream",
          "text": [
            "Drive already mounted at /content/gdrive/; to attempt to forcibly remount, call drive.mount(\"/content/gdrive/\", force_remount=True).\n"
          ],
          "name": "stdout"
        }
      ]
    },
    {
      "cell_type": "code",
      "metadata": {
        "id": "22pe8mtr4MiV",
        "colab_type": "code",
        "colab": {}
      },
      "source": [
        "import pandas as pd\n",
        "import numpy as np\n",
        "import json\n",
        "import emoji\n",
        "from collections import Counter"
      ],
      "execution_count": 7,
      "outputs": []
    },
    {
      "cell_type": "code",
      "metadata": {
        "id": "nbabQdB94Mkq",
        "colab_type": "code",
        "colab": {
          "base_uri": "https://localhost:8080/",
          "height": 402
        },
        "outputId": "76e6a2ab-3e4e-489b-cd8b-43de961a1ad7"
      },
      "source": [
        "df = pd.read_csv('/content/gdrive/My Drive/프로젝트/emoji_add.csv', index_col =[0])\n",
        "df"
      ],
      "execution_count": 8,
      "outputs": [
        {
          "output_type": "execute_result",
          "data": {
            "text/html": [
              "<div>\n",
              "<style scoped>\n",
              "    .dataframe tbody tr th:only-of-type {\n",
              "        vertical-align: middle;\n",
              "    }\n",
              "\n",
              "    .dataframe tbody tr th {\n",
              "        vertical-align: top;\n",
              "    }\n",
              "\n",
              "    .dataframe thead th {\n",
              "        text-align: right;\n",
              "    }\n",
              "</style>\n",
              "<table border=\"1\" class=\"dataframe\">\n",
              "  <thead>\n",
              "    <tr style=\"text-align: right;\">\n",
              "      <th></th>\n",
              "      <th>e_count</th>\n",
              "      <th>emoji</th>\n",
              "      <th>sentiment</th>\n",
              "      <th>unicode</th>\n",
              "    </tr>\n",
              "  </thead>\n",
              "  <tbody>\n",
              "    <tr>\n",
              "      <th>1</th>\n",
              "      <td>128883</td>\n",
              "      <td>🏻</td>\n",
              "      <td>neu</td>\n",
              "      <td>NaN</td>\n",
              "    </tr>\n",
              "    <tr>\n",
              "      <th>2</th>\n",
              "      <td>117109</td>\n",
              "      <td>👍</td>\n",
              "      <td>pos</td>\n",
              "      <td>U+1F44D</td>\n",
              "    </tr>\n",
              "    <tr>\n",
              "      <th>3</th>\n",
              "      <td>91763</td>\n",
              "      <td>❤</td>\n",
              "      <td>pos</td>\n",
              "      <td>U+2764</td>\n",
              "    </tr>\n",
              "    <tr>\n",
              "      <th>4</th>\n",
              "      <td>88323</td>\n",
              "      <td>♥</td>\n",
              "      <td>pos</td>\n",
              "      <td>U+2665</td>\n",
              "    </tr>\n",
              "    <tr>\n",
              "      <th>5</th>\n",
              "      <td>83084</td>\n",
              "      <td>✔</td>\n",
              "      <td>neu</td>\n",
              "      <td>U+2714</td>\n",
              "    </tr>\n",
              "    <tr>\n",
              "      <th>...</th>\n",
              "      <td>...</td>\n",
              "      <td>...</td>\n",
              "      <td>...</td>\n",
              "      <td>...</td>\n",
              "    </tr>\n",
              "    <tr>\n",
              "      <th>96</th>\n",
              "      <td>6993</td>\n",
              "      <td>💖</td>\n",
              "      <td>pos</td>\n",
              "      <td>U+1F496</td>\n",
              "    </tr>\n",
              "    <tr>\n",
              "      <th>97</th>\n",
              "      <td>6911</td>\n",
              "      <td>💗</td>\n",
              "      <td>pos</td>\n",
              "      <td>U+1F497</td>\n",
              "    </tr>\n",
              "    <tr>\n",
              "      <th>98</th>\n",
              "      <td>6859</td>\n",
              "      <td>☀</td>\n",
              "      <td>neu</td>\n",
              "      <td>U+2600</td>\n",
              "    </tr>\n",
              "    <tr>\n",
              "      <th>99</th>\n",
              "      <td>6812</td>\n",
              "      <td>◾</td>\n",
              "      <td>neu</td>\n",
              "      <td>U+25FE</td>\n",
              "    </tr>\n",
              "    <tr>\n",
              "      <th>100</th>\n",
              "      <td>6798</td>\n",
              "      <td>👌</td>\n",
              "      <td>pos</td>\n",
              "      <td>U+1F44C</td>\n",
              "    </tr>\n",
              "  </tbody>\n",
              "</table>\n",
              "<p>100 rows × 4 columns</p>\n",
              "</div>"
            ],
            "text/plain": [
              "     e_count emoji sentiment  unicode\n",
              "1     128883     🏻       neu      NaN\n",
              "2     117109     👍       pos  U+1F44D\n",
              "3      91763     ❤       pos   U+2764\n",
              "4      88323     ♥       pos   U+2665\n",
              "5      83084     ✔       neu   U+2714\n",
              "..       ...   ...       ...      ...\n",
              "96      6993     💖       pos  U+1F496\n",
              "97      6911     💗       pos  U+1F497\n",
              "98      6859     ☀       neu   U+2600\n",
              "99      6812     ◾       neu   U+25FE\n",
              "100     6798     👌       pos  U+1F44C\n",
              "\n",
              "[100 rows x 4 columns]"
            ]
          },
          "metadata": {
            "tags": []
          },
          "execution_count": 8
        }
      ]
    },
    {
      "cell_type": "code",
      "metadata": {
        "id": "VF_8EoIA4MwL",
        "colab_type": "code",
        "colab": {}
      },
      "source": [
        "# 101번째 행 요소들이 모두 nan값으로 추가되는지 확인\n",
        "\n",
        "df.loc[101] = [np.nan, np.nan, np.nan, np.nan]"
      ],
      "execution_count": 15,
      "outputs": []
    },
    {
      "cell_type": "code",
      "metadata": {
        "id": "32j82cDE4MzG",
        "colab_type": "code",
        "colab": {
          "base_uri": "https://localhost:8080/",
          "height": 402
        },
        "outputId": "3a5d4e66-8015-451d-ac3e-5c0eaf663f75"
      },
      "source": [
        "# 101번째 행 추가 확인 완료\n",
        "\n",
        "df"
      ],
      "execution_count": 16,
      "outputs": [
        {
          "output_type": "execute_result",
          "data": {
            "text/html": [
              "<div>\n",
              "<style scoped>\n",
              "    .dataframe tbody tr th:only-of-type {\n",
              "        vertical-align: middle;\n",
              "    }\n",
              "\n",
              "    .dataframe tbody tr th {\n",
              "        vertical-align: top;\n",
              "    }\n",
              "\n",
              "    .dataframe thead th {\n",
              "        text-align: right;\n",
              "    }\n",
              "</style>\n",
              "<table border=\"1\" class=\"dataframe\">\n",
              "  <thead>\n",
              "    <tr style=\"text-align: right;\">\n",
              "      <th></th>\n",
              "      <th>e_count</th>\n",
              "      <th>emoji</th>\n",
              "      <th>sentiment</th>\n",
              "      <th>unicode</th>\n",
              "    </tr>\n",
              "  </thead>\n",
              "  <tbody>\n",
              "    <tr>\n",
              "      <th>1</th>\n",
              "      <td>128883.0</td>\n",
              "      <td>🏻</td>\n",
              "      <td>neu</td>\n",
              "      <td>NaN</td>\n",
              "    </tr>\n",
              "    <tr>\n",
              "      <th>2</th>\n",
              "      <td>117109.0</td>\n",
              "      <td>👍</td>\n",
              "      <td>pos</td>\n",
              "      <td>U+1F44D</td>\n",
              "    </tr>\n",
              "    <tr>\n",
              "      <th>3</th>\n",
              "      <td>91763.0</td>\n",
              "      <td>❤</td>\n",
              "      <td>pos</td>\n",
              "      <td>U+2764</td>\n",
              "    </tr>\n",
              "    <tr>\n",
              "      <th>4</th>\n",
              "      <td>88323.0</td>\n",
              "      <td>♥</td>\n",
              "      <td>pos</td>\n",
              "      <td>U+2665</td>\n",
              "    </tr>\n",
              "    <tr>\n",
              "      <th>5</th>\n",
              "      <td>83084.0</td>\n",
              "      <td>✔</td>\n",
              "      <td>neu</td>\n",
              "      <td>U+2714</td>\n",
              "    </tr>\n",
              "    <tr>\n",
              "      <th>...</th>\n",
              "      <td>...</td>\n",
              "      <td>...</td>\n",
              "      <td>...</td>\n",
              "      <td>...</td>\n",
              "    </tr>\n",
              "    <tr>\n",
              "      <th>97</th>\n",
              "      <td>6911.0</td>\n",
              "      <td>💗</td>\n",
              "      <td>pos</td>\n",
              "      <td>U+1F497</td>\n",
              "    </tr>\n",
              "    <tr>\n",
              "      <th>98</th>\n",
              "      <td>6859.0</td>\n",
              "      <td>☀</td>\n",
              "      <td>neu</td>\n",
              "      <td>U+2600</td>\n",
              "    </tr>\n",
              "    <tr>\n",
              "      <th>99</th>\n",
              "      <td>6812.0</td>\n",
              "      <td>◾</td>\n",
              "      <td>neu</td>\n",
              "      <td>U+25FE</td>\n",
              "    </tr>\n",
              "    <tr>\n",
              "      <th>100</th>\n",
              "      <td>6798.0</td>\n",
              "      <td>👌</td>\n",
              "      <td>pos</td>\n",
              "      <td>U+1F44C</td>\n",
              "    </tr>\n",
              "    <tr>\n",
              "      <th>101</th>\n",
              "      <td>NaN</td>\n",
              "      <td>NaN</td>\n",
              "      <td>NaN</td>\n",
              "      <td>NaN</td>\n",
              "    </tr>\n",
              "  </tbody>\n",
              "</table>\n",
              "<p>101 rows × 4 columns</p>\n",
              "</div>"
            ],
            "text/plain": [
              "      e_count emoji sentiment  unicode\n",
              "1    128883.0     🏻       neu      NaN\n",
              "2    117109.0     👍       pos  U+1F44D\n",
              "3     91763.0     ❤       pos   U+2764\n",
              "4     88323.0     ♥       pos   U+2665\n",
              "5     83084.0     ✔       neu   U+2714\n",
              "..        ...   ...       ...      ...\n",
              "97     6911.0     💗       pos  U+1F497\n",
              "98     6859.0     ☀       neu   U+2600\n",
              "99     6812.0     ◾       neu   U+25FE\n",
              "100    6798.0     👌       pos  U+1F44C\n",
              "101       NaN   NaN       NaN      NaN\n",
              "\n",
              "[101 rows x 4 columns]"
            ]
          },
          "metadata": {
            "tags": []
          },
          "execution_count": 16
        }
      ]
    },
    {
      "cell_type": "code",
      "metadata": {
        "id": "Vh_Plmm_4M1g",
        "colab_type": "code",
        "colab": {
          "base_uri": "https://localhost:8080/",
          "height": 263
        },
        "outputId": "ea5f07f2-a391-4dfb-bd75-4377c8696210"
      },
      "source": [
        "# for문을 이용하여 200번째 행까지 생성\n",
        "\n",
        "for i in range(102, 201):\n",
        "    df.loc[i] = [np.nan, np.nan, np.nan, np.nan]\n",
        "\n",
        "print(df) # 200번째 행이 생성되는 것까지 확인 완료"
      ],
      "execution_count": 23,
      "outputs": [
        {
          "output_type": "stream",
          "text": [
            "      e_count emoji sentiment  unicode\n",
            "1    128883.0     🏻       neu      NaN\n",
            "2    117109.0     👍       pos  U+1F44D\n",
            "3     91763.0     ❤       pos   U+2764\n",
            "4     88323.0     ♥       pos   U+2665\n",
            "5     83084.0     ✔       neu   U+2714\n",
            "..        ...   ...       ...      ...\n",
            "196       NaN   NaN       NaN      NaN\n",
            "197       NaN   NaN       NaN      NaN\n",
            "198       NaN   NaN       NaN      NaN\n",
            "199       NaN   NaN       NaN      NaN\n",
            "200       NaN   NaN       NaN      NaN\n",
            "\n",
            "[200 rows x 4 columns]\n"
          ],
          "name": "stdout"
        }
      ]
    },
    {
      "cell_type": "code",
      "metadata": {
        "id": "Nv2YBCdL4M4C",
        "colab_type": "code",
        "colab": {
          "base_uri": "https://localhost:8080/",
          "height": 402
        },
        "outputId": "94d8f7fb-0a66-4dc9-ef95-dcb9b32245b4"
      },
      "source": [
        "df"
      ],
      "execution_count": 24,
      "outputs": [
        {
          "output_type": "execute_result",
          "data": {
            "text/html": [
              "<div>\n",
              "<style scoped>\n",
              "    .dataframe tbody tr th:only-of-type {\n",
              "        vertical-align: middle;\n",
              "    }\n",
              "\n",
              "    .dataframe tbody tr th {\n",
              "        vertical-align: top;\n",
              "    }\n",
              "\n",
              "    .dataframe thead th {\n",
              "        text-align: right;\n",
              "    }\n",
              "</style>\n",
              "<table border=\"1\" class=\"dataframe\">\n",
              "  <thead>\n",
              "    <tr style=\"text-align: right;\">\n",
              "      <th></th>\n",
              "      <th>e_count</th>\n",
              "      <th>emoji</th>\n",
              "      <th>sentiment</th>\n",
              "      <th>unicode</th>\n",
              "    </tr>\n",
              "  </thead>\n",
              "  <tbody>\n",
              "    <tr>\n",
              "      <th>1</th>\n",
              "      <td>128883.0</td>\n",
              "      <td>🏻</td>\n",
              "      <td>neu</td>\n",
              "      <td>NaN</td>\n",
              "    </tr>\n",
              "    <tr>\n",
              "      <th>2</th>\n",
              "      <td>117109.0</td>\n",
              "      <td>👍</td>\n",
              "      <td>pos</td>\n",
              "      <td>U+1F44D</td>\n",
              "    </tr>\n",
              "    <tr>\n",
              "      <th>3</th>\n",
              "      <td>91763.0</td>\n",
              "      <td>❤</td>\n",
              "      <td>pos</td>\n",
              "      <td>U+2764</td>\n",
              "    </tr>\n",
              "    <tr>\n",
              "      <th>4</th>\n",
              "      <td>88323.0</td>\n",
              "      <td>♥</td>\n",
              "      <td>pos</td>\n",
              "      <td>U+2665</td>\n",
              "    </tr>\n",
              "    <tr>\n",
              "      <th>5</th>\n",
              "      <td>83084.0</td>\n",
              "      <td>✔</td>\n",
              "      <td>neu</td>\n",
              "      <td>U+2714</td>\n",
              "    </tr>\n",
              "    <tr>\n",
              "      <th>...</th>\n",
              "      <td>...</td>\n",
              "      <td>...</td>\n",
              "      <td>...</td>\n",
              "      <td>...</td>\n",
              "    </tr>\n",
              "    <tr>\n",
              "      <th>196</th>\n",
              "      <td>NaN</td>\n",
              "      <td>NaN</td>\n",
              "      <td>NaN</td>\n",
              "      <td>NaN</td>\n",
              "    </tr>\n",
              "    <tr>\n",
              "      <th>197</th>\n",
              "      <td>NaN</td>\n",
              "      <td>NaN</td>\n",
              "      <td>NaN</td>\n",
              "      <td>NaN</td>\n",
              "    </tr>\n",
              "    <tr>\n",
              "      <th>198</th>\n",
              "      <td>NaN</td>\n",
              "      <td>NaN</td>\n",
              "      <td>NaN</td>\n",
              "      <td>NaN</td>\n",
              "    </tr>\n",
              "    <tr>\n",
              "      <th>199</th>\n",
              "      <td>NaN</td>\n",
              "      <td>NaN</td>\n",
              "      <td>NaN</td>\n",
              "      <td>NaN</td>\n",
              "    </tr>\n",
              "    <tr>\n",
              "      <th>200</th>\n",
              "      <td>NaN</td>\n",
              "      <td>NaN</td>\n",
              "      <td>NaN</td>\n",
              "      <td>NaN</td>\n",
              "    </tr>\n",
              "  </tbody>\n",
              "</table>\n",
              "<p>200 rows × 4 columns</p>\n",
              "</div>"
            ],
            "text/plain": [
              "      e_count emoji sentiment  unicode\n",
              "1    128883.0     🏻       neu      NaN\n",
              "2    117109.0     👍       pos  U+1F44D\n",
              "3     91763.0     ❤       pos   U+2764\n",
              "4     88323.0     ♥       pos   U+2665\n",
              "5     83084.0     ✔       neu   U+2714\n",
              "..        ...   ...       ...      ...\n",
              "196       NaN   NaN       NaN      NaN\n",
              "197       NaN   NaN       NaN      NaN\n",
              "198       NaN   NaN       NaN      NaN\n",
              "199       NaN   NaN       NaN      NaN\n",
              "200       NaN   NaN       NaN      NaN\n",
              "\n",
              "[200 rows x 4 columns]"
            ]
          },
          "metadata": {
            "tags": []
          },
          "execution_count": 24
        }
      ]
    },
    {
      "cell_type": "code",
      "metadata": {
        "id": "KBbsKRT54Mra",
        "colab_type": "code",
        "colab": {
          "base_uri": "https://localhost:8080/",
          "height": 402
        },
        "outputId": "ace0dee2-fee2-4e09-943b-97d46e9bafa3"
      },
      "source": [
        "# 잘 생성되었는지 슬라이싱 이용하여 확인\n",
        "\n",
        "df.loc[100:200]"
      ],
      "execution_count": 31,
      "outputs": [
        {
          "output_type": "execute_result",
          "data": {
            "text/html": [
              "<div>\n",
              "<style scoped>\n",
              "    .dataframe tbody tr th:only-of-type {\n",
              "        vertical-align: middle;\n",
              "    }\n",
              "\n",
              "    .dataframe tbody tr th {\n",
              "        vertical-align: top;\n",
              "    }\n",
              "\n",
              "    .dataframe thead th {\n",
              "        text-align: right;\n",
              "    }\n",
              "</style>\n",
              "<table border=\"1\" class=\"dataframe\">\n",
              "  <thead>\n",
              "    <tr style=\"text-align: right;\">\n",
              "      <th></th>\n",
              "      <th>e_count</th>\n",
              "      <th>emoji</th>\n",
              "      <th>sentiment</th>\n",
              "      <th>unicode</th>\n",
              "    </tr>\n",
              "  </thead>\n",
              "  <tbody>\n",
              "    <tr>\n",
              "      <th>100</th>\n",
              "      <td>6798.0</td>\n",
              "      <td>👌</td>\n",
              "      <td>pos</td>\n",
              "      <td>U+1F44C</td>\n",
              "    </tr>\n",
              "    <tr>\n",
              "      <th>101</th>\n",
              "      <td>NaN</td>\n",
              "      <td>NaN</td>\n",
              "      <td>NaN</td>\n",
              "      <td>NaN</td>\n",
              "    </tr>\n",
              "    <tr>\n",
              "      <th>102</th>\n",
              "      <td>NaN</td>\n",
              "      <td>NaN</td>\n",
              "      <td>NaN</td>\n",
              "      <td>NaN</td>\n",
              "    </tr>\n",
              "    <tr>\n",
              "      <th>103</th>\n",
              "      <td>NaN</td>\n",
              "      <td>NaN</td>\n",
              "      <td>NaN</td>\n",
              "      <td>NaN</td>\n",
              "    </tr>\n",
              "    <tr>\n",
              "      <th>104</th>\n",
              "      <td>NaN</td>\n",
              "      <td>NaN</td>\n",
              "      <td>NaN</td>\n",
              "      <td>NaN</td>\n",
              "    </tr>\n",
              "    <tr>\n",
              "      <th>...</th>\n",
              "      <td>...</td>\n",
              "      <td>...</td>\n",
              "      <td>...</td>\n",
              "      <td>...</td>\n",
              "    </tr>\n",
              "    <tr>\n",
              "      <th>196</th>\n",
              "      <td>NaN</td>\n",
              "      <td>NaN</td>\n",
              "      <td>NaN</td>\n",
              "      <td>NaN</td>\n",
              "    </tr>\n",
              "    <tr>\n",
              "      <th>197</th>\n",
              "      <td>NaN</td>\n",
              "      <td>NaN</td>\n",
              "      <td>NaN</td>\n",
              "      <td>NaN</td>\n",
              "    </tr>\n",
              "    <tr>\n",
              "      <th>198</th>\n",
              "      <td>NaN</td>\n",
              "      <td>NaN</td>\n",
              "      <td>NaN</td>\n",
              "      <td>NaN</td>\n",
              "    </tr>\n",
              "    <tr>\n",
              "      <th>199</th>\n",
              "      <td>NaN</td>\n",
              "      <td>NaN</td>\n",
              "      <td>NaN</td>\n",
              "      <td>NaN</td>\n",
              "    </tr>\n",
              "    <tr>\n",
              "      <th>200</th>\n",
              "      <td>NaN</td>\n",
              "      <td>NaN</td>\n",
              "      <td>NaN</td>\n",
              "      <td>NaN</td>\n",
              "    </tr>\n",
              "  </tbody>\n",
              "</table>\n",
              "<p>101 rows × 4 columns</p>\n",
              "</div>"
            ],
            "text/plain": [
              "     e_count emoji sentiment  unicode\n",
              "100   6798.0     👌       pos  U+1F44C\n",
              "101      NaN   NaN       NaN      NaN\n",
              "102      NaN   NaN       NaN      NaN\n",
              "103      NaN   NaN       NaN      NaN\n",
              "104      NaN   NaN       NaN      NaN\n",
              "..       ...   ...       ...      ...\n",
              "196      NaN   NaN       NaN      NaN\n",
              "197      NaN   NaN       NaN      NaN\n",
              "198      NaN   NaN       NaN      NaN\n",
              "199      NaN   NaN       NaN      NaN\n",
              "200      NaN   NaN       NaN      NaN\n",
              "\n",
              "[101 rows x 4 columns]"
            ]
          },
          "metadata": {
            "tags": []
          },
          "execution_count": 31
        }
      ]
    },
    {
      "cell_type": "code",
      "metadata": {
        "id": "BL_GHhO4S-xF",
        "colab_type": "code",
        "colab": {}
      },
      "source": [
        "# 이후 할 일: 각 행에 추가할 이모티콘이 있으면 넣고, 없으면 행 삭제할 것\n",
        "# 특히 사람들이 자주 사용하는 top 100 이모티콘은 긍정이 많으므로 수동으로 부정 이모티콘을 확인해서 넣을 것(긍정, 부정, 그리고 중립 몇개씩 있는지 확인부터 할 것!)\n"
      ],
      "execution_count": null,
      "outputs": []
    },
    {
      "cell_type": "code",
      "metadata": {
        "id": "O0sKDEjk4MqF",
        "colab_type": "code",
        "colab": {}
      },
      "source": [
        "# df.to_csv('/content/gdrive/My Drive/프로젝트/emoji_add.csv')"
      ],
      "execution_count": null,
      "outputs": []
    }
  ]
}