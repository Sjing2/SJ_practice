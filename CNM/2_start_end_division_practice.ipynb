{
  "nbformat": 4,
  "nbformat_minor": 0,
  "metadata": {
    "colab": {
      "name": "2_start_end_division_practice.ipynb",
      "provenance": [],
      "authorship_tag": "ABX9TyOFQCoBldumMEzhuhh5SuN0",
      "include_colab_link": true
    },
    "kernelspec": {
      "name": "python3",
      "display_name": "Python 3"
    }
  },
  "cells": [
    {
      "cell_type": "markdown",
      "metadata": {
        "id": "view-in-github",
        "colab_type": "text"
      },
      "source": [
        "<a href=\"https://colab.research.google.com/github/Sjing2/SJ_practice/blob/master/CNM/2_start_end_division_practice.ipynb\" target=\"_parent\"><img src=\"https://colab.research.google.com/assets/colab-badge.svg\" alt=\"Open In Colab\"/></a>"
      ]
    },
    {
      "cell_type": "code",
      "metadata": {
        "id": "mqxYzbKUQYww",
        "colab_type": "code",
        "colab": {
          "base_uri": "https://localhost:8080/",
          "height": 125
        },
        "outputId": "3a148a19-4a25-49b6-b4cd-6c24eb03ed7d"
      },
      "source": [
        "from google.colab import drive\n",
        "drive.mount('/content/gdrive/')"
      ],
      "execution_count": 1,
      "outputs": [
        {
          "output_type": "stream",
          "text": [
            "Go to this URL in a browser: https://accounts.google.com/o/oauth2/auth?client_id=947318989803-6bn6qk8qdgf4n4g3pfee6491hc0brc4i.apps.googleusercontent.com&redirect_uri=urn%3aietf%3awg%3aoauth%3a2.0%3aoob&scope=email%20https%3a%2f%2fwww.googleapis.com%2fauth%2fdocs.test%20https%3a%2f%2fwww.googleapis.com%2fauth%2fdrive%20https%3a%2f%2fwww.googleapis.com%2fauth%2fdrive.photos.readonly%20https%3a%2f%2fwww.googleapis.com%2fauth%2fpeopleapi.readonly&response_type=code\n",
            "\n",
            "Enter your authorization code:\n",
            "··········\n",
            "Mounted at /content/gdrive/\n"
          ],
          "name": "stdout"
        }
      ]
    },
    {
      "cell_type": "code",
      "metadata": {
        "id": "iJQ4w4YFQvqk",
        "colab_type": "code",
        "colab": {}
      },
      "source": [
        "import pandas as pd"
      ],
      "execution_count": 2,
      "outputs": []
    },
    {
      "cell_type": "code",
      "metadata": {
        "id": "h904ohZwQkMI",
        "colab_type": "code",
        "colab": {}
      },
      "source": [
        "df = pd.read_csv(\"/content/gdrive/My Drive/프로젝트/network/cc_2_df.csv\")"
      ],
      "execution_count": 3,
      "outputs": []
    },
    {
      "cell_type": "code",
      "metadata": {
        "id": "JAMEB0NMQ1Zo",
        "colab_type": "code",
        "colab": {
          "base_uri": "https://localhost:8080/",
          "height": 402
        },
        "outputId": "175f6bb7-a6af-4224-c5f2-8773dc29bf77"
      },
      "source": [
        "df"
      ],
      "execution_count": 4,
      "outputs": [
        {
          "output_type": "execute_result",
          "data": {
            "text/html": [
              "<div>\n",
              "<style scoped>\n",
              "    .dataframe tbody tr th:only-of-type {\n",
              "        vertical-align: middle;\n",
              "    }\n",
              "\n",
              "    .dataframe tbody tr th {\n",
              "        vertical-align: top;\n",
              "    }\n",
              "\n",
              "    .dataframe thead th {\n",
              "        text-align: right;\n",
              "    }\n",
              "</style>\n",
              "<table border=\"1\" class=\"dataframe\">\n",
              "  <thead>\n",
              "    <tr style=\"text-align: right;\">\n",
              "      <th></th>\n",
              "      <th>Unnamed: 0</th>\n",
              "      <th>start</th>\n",
              "      <th>end</th>\n",
              "    </tr>\n",
              "  </thead>\n",
              "  <tbody>\n",
              "    <tr>\n",
              "      <th>0</th>\n",
              "      <td>0</td>\n",
              "      <td>13580068590</td>\n",
              "      <td>27733156208</td>\n",
              "    </tr>\n",
              "    <tr>\n",
              "      <th>1</th>\n",
              "      <td>1</td>\n",
              "      <td>13337514500</td>\n",
              "      <td>27733156208</td>\n",
              "    </tr>\n",
              "    <tr>\n",
              "      <th>2</th>\n",
              "      <td>2</td>\n",
              "      <td>27961899505</td>\n",
              "      <td>27733156208</td>\n",
              "    </tr>\n",
              "    <tr>\n",
              "      <th>3</th>\n",
              "      <td>3</td>\n",
              "      <td>5772973535</td>\n",
              "      <td>27733156208</td>\n",
              "    </tr>\n",
              "    <tr>\n",
              "      <th>4</th>\n",
              "      <td>4</td>\n",
              "      <td>27733156208</td>\n",
              "      <td>13580068590</td>\n",
              "    </tr>\n",
              "    <tr>\n",
              "      <th>...</th>\n",
              "      <td>...</td>\n",
              "      <td>...</td>\n",
              "      <td>...</td>\n",
              "    </tr>\n",
              "    <tr>\n",
              "      <th>10530</th>\n",
              "      <td>10530</td>\n",
              "      <td>3188424467</td>\n",
              "      <td>5557754898</td>\n",
              "    </tr>\n",
              "    <tr>\n",
              "      <th>10531</th>\n",
              "      <td>10531</td>\n",
              "      <td>3188424467</td>\n",
              "      <td>5763414441</td>\n",
              "    </tr>\n",
              "    <tr>\n",
              "      <th>10532</th>\n",
              "      <td>10532</td>\n",
              "      <td>3188424467</td>\n",
              "      <td>31450672398</td>\n",
              "    </tr>\n",
              "    <tr>\n",
              "      <th>10533</th>\n",
              "      <td>10533</td>\n",
              "      <td>3188424467</td>\n",
              "      <td>3685838615</td>\n",
              "    </tr>\n",
              "    <tr>\n",
              "      <th>10534</th>\n",
              "      <td>10534</td>\n",
              "      <td>3188424467</td>\n",
              "      <td>1435555268</td>\n",
              "    </tr>\n",
              "  </tbody>\n",
              "</table>\n",
              "<p>10535 rows × 3 columns</p>\n",
              "</div>"
            ],
            "text/plain": [
              "       Unnamed: 0        start          end\n",
              "0               0  13580068590  27733156208\n",
              "1               1  13337514500  27733156208\n",
              "2               2  27961899505  27733156208\n",
              "3               3   5772973535  27733156208\n",
              "4               4  27733156208  13580068590\n",
              "...           ...          ...          ...\n",
              "10530       10530   3188424467   5557754898\n",
              "10531       10531   3188424467   5763414441\n",
              "10532       10532   3188424467  31450672398\n",
              "10533       10533   3188424467   3685838615\n",
              "10534       10534   3188424467   1435555268\n",
              "\n",
              "[10535 rows x 3 columns]"
            ]
          },
          "metadata": {
            "tags": []
          },
          "execution_count": 4
        }
      ]
    },
    {
      "cell_type": "code",
      "metadata": {
        "id": "MpXPBpWHQ1zy",
        "colab_type": "code",
        "colab": {}
      },
      "source": [
        "start_df = pd.read_csv(\"/content/gdrive/My Drive/프로젝트/network/start_df.csv\")"
      ],
      "execution_count": 7,
      "outputs": []
    },
    {
      "cell_type": "code",
      "metadata": {
        "id": "15qedfGZRCb1",
        "colab_type": "code",
        "colab": {
          "base_uri": "https://localhost:8080/",
          "height": 402
        },
        "outputId": "d2229e34-60f0-42d8-d41f-9ffb37336533"
      },
      "source": [
        "start_df"
      ],
      "execution_count": 8,
      "outputs": [
        {
          "output_type": "execute_result",
          "data": {
            "text/html": [
              "<div>\n",
              "<style scoped>\n",
              "    .dataframe tbody tr th:only-of-type {\n",
              "        vertical-align: middle;\n",
              "    }\n",
              "\n",
              "    .dataframe tbody tr th {\n",
              "        vertical-align: top;\n",
              "    }\n",
              "\n",
              "    .dataframe thead th {\n",
              "        text-align: right;\n",
              "    }\n",
              "</style>\n",
              "<table border=\"1\" class=\"dataframe\">\n",
              "  <thead>\n",
              "    <tr style=\"text-align: right;\">\n",
              "      <th></th>\n",
              "      <th>Unnamed: 0</th>\n",
              "      <th>start_1</th>\n",
              "    </tr>\n",
              "  </thead>\n",
              "  <tbody>\n",
              "    <tr>\n",
              "      <th>0</th>\n",
              "      <td>0</td>\n",
              "      <td>13580068590,</td>\n",
              "    </tr>\n",
              "    <tr>\n",
              "      <th>1</th>\n",
              "      <td>1</td>\n",
              "      <td>13337514500,</td>\n",
              "    </tr>\n",
              "    <tr>\n",
              "      <th>2</th>\n",
              "      <td>2</td>\n",
              "      <td>27961899505,</td>\n",
              "    </tr>\n",
              "    <tr>\n",
              "      <th>3</th>\n",
              "      <td>3</td>\n",
              "      <td>5772973535,</td>\n",
              "    </tr>\n",
              "    <tr>\n",
              "      <th>4</th>\n",
              "      <td>4</td>\n",
              "      <td>27733156208,</td>\n",
              "    </tr>\n",
              "    <tr>\n",
              "      <th>...</th>\n",
              "      <td>...</td>\n",
              "      <td>...</td>\n",
              "    </tr>\n",
              "    <tr>\n",
              "      <th>10530</th>\n",
              "      <td>10530</td>\n",
              "      <td>3188424467,</td>\n",
              "    </tr>\n",
              "    <tr>\n",
              "      <th>10531</th>\n",
              "      <td>10531</td>\n",
              "      <td>3188424467,</td>\n",
              "    </tr>\n",
              "    <tr>\n",
              "      <th>10532</th>\n",
              "      <td>10532</td>\n",
              "      <td>3188424467,</td>\n",
              "    </tr>\n",
              "    <tr>\n",
              "      <th>10533</th>\n",
              "      <td>10533</td>\n",
              "      <td>3188424467,</td>\n",
              "    </tr>\n",
              "    <tr>\n",
              "      <th>10534</th>\n",
              "      <td>10534</td>\n",
              "      <td>3188424467,</td>\n",
              "    </tr>\n",
              "  </tbody>\n",
              "</table>\n",
              "<p>10535 rows × 2 columns</p>\n",
              "</div>"
            ],
            "text/plain": [
              "       Unnamed: 0       start_1\n",
              "0               0  13580068590,\n",
              "1               1  13337514500,\n",
              "2               2  27961899505,\n",
              "3               3   5772973535,\n",
              "4               4  27733156208,\n",
              "...           ...           ...\n",
              "10530       10530   3188424467,\n",
              "10531       10531   3188424467,\n",
              "10532       10532   3188424467,\n",
              "10533       10533   3188424467,\n",
              "10534       10534   3188424467,\n",
              "\n",
              "[10535 rows x 2 columns]"
            ]
          },
          "metadata": {
            "tags": []
          },
          "execution_count": 8
        }
      ]
    },
    {
      "cell_type": "code",
      "metadata": {
        "id": "4LRujc5LWt5o",
        "colab_type": "code",
        "colab": {
          "base_uri": "https://localhost:8080/",
          "height": 35
        },
        "outputId": "29fc2fef-bae9-41eb-b43c-637f89f23a34"
      },
      "source": [
        "start_df['start_1'][0]"
      ],
      "execution_count": 9,
      "outputs": [
        {
          "output_type": "execute_result",
          "data": {
            "application/vnd.google.colaboratory.intrinsic+json": {
              "type": "string"
            },
            "text/plain": [
              "'13580068590,'"
            ]
          },
          "metadata": {
            "tags": []
          },
          "execution_count": 9
        }
      ]
    },
    {
      "cell_type": "code",
      "metadata": {
        "id": "lj3eF3hPRDCJ",
        "colab_type": "code",
        "colab": {
          "base_uri": "https://localhost:8080/",
          "height": 402
        },
        "outputId": "c9360682-1dee-41e8-be79-394afe727e91"
      },
      "source": [
        "add_df = pd.merge(df, start_df, on = 'Unnamed: 0')\n",
        "add_df"
      ],
      "execution_count": 10,
      "outputs": [
        {
          "output_type": "execute_result",
          "data": {
            "text/html": [
              "<div>\n",
              "<style scoped>\n",
              "    .dataframe tbody tr th:only-of-type {\n",
              "        vertical-align: middle;\n",
              "    }\n",
              "\n",
              "    .dataframe tbody tr th {\n",
              "        vertical-align: top;\n",
              "    }\n",
              "\n",
              "    .dataframe thead th {\n",
              "        text-align: right;\n",
              "    }\n",
              "</style>\n",
              "<table border=\"1\" class=\"dataframe\">\n",
              "  <thead>\n",
              "    <tr style=\"text-align: right;\">\n",
              "      <th></th>\n",
              "      <th>Unnamed: 0</th>\n",
              "      <th>start</th>\n",
              "      <th>end</th>\n",
              "      <th>start_1</th>\n",
              "    </tr>\n",
              "  </thead>\n",
              "  <tbody>\n",
              "    <tr>\n",
              "      <th>0</th>\n",
              "      <td>0</td>\n",
              "      <td>13580068590</td>\n",
              "      <td>27733156208</td>\n",
              "      <td>13580068590,</td>\n",
              "    </tr>\n",
              "    <tr>\n",
              "      <th>1</th>\n",
              "      <td>1</td>\n",
              "      <td>13337514500</td>\n",
              "      <td>27733156208</td>\n",
              "      <td>13337514500,</td>\n",
              "    </tr>\n",
              "    <tr>\n",
              "      <th>2</th>\n",
              "      <td>2</td>\n",
              "      <td>27961899505</td>\n",
              "      <td>27733156208</td>\n",
              "      <td>27961899505,</td>\n",
              "    </tr>\n",
              "    <tr>\n",
              "      <th>3</th>\n",
              "      <td>3</td>\n",
              "      <td>5772973535</td>\n",
              "      <td>27733156208</td>\n",
              "      <td>5772973535,</td>\n",
              "    </tr>\n",
              "    <tr>\n",
              "      <th>4</th>\n",
              "      <td>4</td>\n",
              "      <td>27733156208</td>\n",
              "      <td>13580068590</td>\n",
              "      <td>27733156208,</td>\n",
              "    </tr>\n",
              "    <tr>\n",
              "      <th>...</th>\n",
              "      <td>...</td>\n",
              "      <td>...</td>\n",
              "      <td>...</td>\n",
              "      <td>...</td>\n",
              "    </tr>\n",
              "    <tr>\n",
              "      <th>10530</th>\n",
              "      <td>10530</td>\n",
              "      <td>3188424467</td>\n",
              "      <td>5557754898</td>\n",
              "      <td>3188424467,</td>\n",
              "    </tr>\n",
              "    <tr>\n",
              "      <th>10531</th>\n",
              "      <td>10531</td>\n",
              "      <td>3188424467</td>\n",
              "      <td>5763414441</td>\n",
              "      <td>3188424467,</td>\n",
              "    </tr>\n",
              "    <tr>\n",
              "      <th>10532</th>\n",
              "      <td>10532</td>\n",
              "      <td>3188424467</td>\n",
              "      <td>31450672398</td>\n",
              "      <td>3188424467,</td>\n",
              "    </tr>\n",
              "    <tr>\n",
              "      <th>10533</th>\n",
              "      <td>10533</td>\n",
              "      <td>3188424467</td>\n",
              "      <td>3685838615</td>\n",
              "      <td>3188424467,</td>\n",
              "    </tr>\n",
              "    <tr>\n",
              "      <th>10534</th>\n",
              "      <td>10534</td>\n",
              "      <td>3188424467</td>\n",
              "      <td>1435555268</td>\n",
              "      <td>3188424467,</td>\n",
              "    </tr>\n",
              "  </tbody>\n",
              "</table>\n",
              "<p>10535 rows × 4 columns</p>\n",
              "</div>"
            ],
            "text/plain": [
              "       Unnamed: 0        start          end       start_1\n",
              "0               0  13580068590  27733156208  13580068590,\n",
              "1               1  13337514500  27733156208  13337514500,\n",
              "2               2  27961899505  27733156208  27961899505,\n",
              "3               3   5772973535  27733156208   5772973535,\n",
              "4               4  27733156208  13580068590  27733156208,\n",
              "...           ...          ...          ...           ...\n",
              "10530       10530   3188424467   5557754898   3188424467,\n",
              "10531       10531   3188424467   5763414441   3188424467,\n",
              "10532       10532   3188424467  31450672398   3188424467,\n",
              "10533       10533   3188424467   3685838615   3188424467,\n",
              "10534       10534   3188424467   1435555268   3188424467,\n",
              "\n",
              "[10535 rows x 4 columns]"
            ]
          },
          "metadata": {
            "tags": []
          },
          "execution_count": 10
        }
      ]
    },
    {
      "cell_type": "code",
      "metadata": {
        "id": "hD_kM8p_RKcn",
        "colab_type": "code",
        "colab": {}
      },
      "source": [
        "add_df.drop(['Unnamed: 0', 'start'], axis='columns', inplace=True)"
      ],
      "execution_count": 11,
      "outputs": []
    },
    {
      "cell_type": "code",
      "metadata": {
        "id": "CDr5zjynST10",
        "colab_type": "code",
        "colab": {
          "base_uri": "https://localhost:8080/",
          "height": 402
        },
        "outputId": "c4da8a16-5381-40fc-d446-ac83910c399b"
      },
      "source": [
        "add_df"
      ],
      "execution_count": 12,
      "outputs": [
        {
          "output_type": "execute_result",
          "data": {
            "text/html": [
              "<div>\n",
              "<style scoped>\n",
              "    .dataframe tbody tr th:only-of-type {\n",
              "        vertical-align: middle;\n",
              "    }\n",
              "\n",
              "    .dataframe tbody tr th {\n",
              "        vertical-align: top;\n",
              "    }\n",
              "\n",
              "    .dataframe thead th {\n",
              "        text-align: right;\n",
              "    }\n",
              "</style>\n",
              "<table border=\"1\" class=\"dataframe\">\n",
              "  <thead>\n",
              "    <tr style=\"text-align: right;\">\n",
              "      <th></th>\n",
              "      <th>end</th>\n",
              "      <th>start_1</th>\n",
              "    </tr>\n",
              "  </thead>\n",
              "  <tbody>\n",
              "    <tr>\n",
              "      <th>0</th>\n",
              "      <td>27733156208</td>\n",
              "      <td>13580068590,</td>\n",
              "    </tr>\n",
              "    <tr>\n",
              "      <th>1</th>\n",
              "      <td>27733156208</td>\n",
              "      <td>13337514500,</td>\n",
              "    </tr>\n",
              "    <tr>\n",
              "      <th>2</th>\n",
              "      <td>27733156208</td>\n",
              "      <td>27961899505,</td>\n",
              "    </tr>\n",
              "    <tr>\n",
              "      <th>3</th>\n",
              "      <td>27733156208</td>\n",
              "      <td>5772973535,</td>\n",
              "    </tr>\n",
              "    <tr>\n",
              "      <th>4</th>\n",
              "      <td>13580068590</td>\n",
              "      <td>27733156208,</td>\n",
              "    </tr>\n",
              "    <tr>\n",
              "      <th>...</th>\n",
              "      <td>...</td>\n",
              "      <td>...</td>\n",
              "    </tr>\n",
              "    <tr>\n",
              "      <th>10530</th>\n",
              "      <td>5557754898</td>\n",
              "      <td>3188424467,</td>\n",
              "    </tr>\n",
              "    <tr>\n",
              "      <th>10531</th>\n",
              "      <td>5763414441</td>\n",
              "      <td>3188424467,</td>\n",
              "    </tr>\n",
              "    <tr>\n",
              "      <th>10532</th>\n",
              "      <td>31450672398</td>\n",
              "      <td>3188424467,</td>\n",
              "    </tr>\n",
              "    <tr>\n",
              "      <th>10533</th>\n",
              "      <td>3685838615</td>\n",
              "      <td>3188424467,</td>\n",
              "    </tr>\n",
              "    <tr>\n",
              "      <th>10534</th>\n",
              "      <td>1435555268</td>\n",
              "      <td>3188424467,</td>\n",
              "    </tr>\n",
              "  </tbody>\n",
              "</table>\n",
              "<p>10535 rows × 2 columns</p>\n",
              "</div>"
            ],
            "text/plain": [
              "               end       start_1\n",
              "0      27733156208  13580068590,\n",
              "1      27733156208  13337514500,\n",
              "2      27733156208  27961899505,\n",
              "3      27733156208   5772973535,\n",
              "4      13580068590  27733156208,\n",
              "...            ...           ...\n",
              "10530   5557754898   3188424467,\n",
              "10531   5763414441   3188424467,\n",
              "10532  31450672398   3188424467,\n",
              "10533   3685838615   3188424467,\n",
              "10534   1435555268   3188424467,\n",
              "\n",
              "[10535 rows x 2 columns]"
            ]
          },
          "metadata": {
            "tags": []
          },
          "execution_count": 12
        }
      ]
    },
    {
      "cell_type": "code",
      "metadata": {
        "id": "7cvwm6oHSVPJ",
        "colab_type": "code",
        "colab": {
          "base_uri": "https://localhost:8080/",
          "height": 402
        },
        "outputId": "7ee2a467-4e3f-489a-db22-cb7bfadfa435"
      },
      "source": [
        "add_df = add_df[['start_1', 'end']]\n",
        "add_df"
      ],
      "execution_count": 13,
      "outputs": [
        {
          "output_type": "execute_result",
          "data": {
            "text/html": [
              "<div>\n",
              "<style scoped>\n",
              "    .dataframe tbody tr th:only-of-type {\n",
              "        vertical-align: middle;\n",
              "    }\n",
              "\n",
              "    .dataframe tbody tr th {\n",
              "        vertical-align: top;\n",
              "    }\n",
              "\n",
              "    .dataframe thead th {\n",
              "        text-align: right;\n",
              "    }\n",
              "</style>\n",
              "<table border=\"1\" class=\"dataframe\">\n",
              "  <thead>\n",
              "    <tr style=\"text-align: right;\">\n",
              "      <th></th>\n",
              "      <th>start_1</th>\n",
              "      <th>end</th>\n",
              "    </tr>\n",
              "  </thead>\n",
              "  <tbody>\n",
              "    <tr>\n",
              "      <th>0</th>\n",
              "      <td>13580068590,</td>\n",
              "      <td>27733156208</td>\n",
              "    </tr>\n",
              "    <tr>\n",
              "      <th>1</th>\n",
              "      <td>13337514500,</td>\n",
              "      <td>27733156208</td>\n",
              "    </tr>\n",
              "    <tr>\n",
              "      <th>2</th>\n",
              "      <td>27961899505,</td>\n",
              "      <td>27733156208</td>\n",
              "    </tr>\n",
              "    <tr>\n",
              "      <th>3</th>\n",
              "      <td>5772973535,</td>\n",
              "      <td>27733156208</td>\n",
              "    </tr>\n",
              "    <tr>\n",
              "      <th>4</th>\n",
              "      <td>27733156208,</td>\n",
              "      <td>13580068590</td>\n",
              "    </tr>\n",
              "    <tr>\n",
              "      <th>...</th>\n",
              "      <td>...</td>\n",
              "      <td>...</td>\n",
              "    </tr>\n",
              "    <tr>\n",
              "      <th>10530</th>\n",
              "      <td>3188424467,</td>\n",
              "      <td>5557754898</td>\n",
              "    </tr>\n",
              "    <tr>\n",
              "      <th>10531</th>\n",
              "      <td>3188424467,</td>\n",
              "      <td>5763414441</td>\n",
              "    </tr>\n",
              "    <tr>\n",
              "      <th>10532</th>\n",
              "      <td>3188424467,</td>\n",
              "      <td>31450672398</td>\n",
              "    </tr>\n",
              "    <tr>\n",
              "      <th>10533</th>\n",
              "      <td>3188424467,</td>\n",
              "      <td>3685838615</td>\n",
              "    </tr>\n",
              "    <tr>\n",
              "      <th>10534</th>\n",
              "      <td>3188424467,</td>\n",
              "      <td>1435555268</td>\n",
              "    </tr>\n",
              "  </tbody>\n",
              "</table>\n",
              "<p>10535 rows × 2 columns</p>\n",
              "</div>"
            ],
            "text/plain": [
              "            start_1          end\n",
              "0      13580068590,  27733156208\n",
              "1      13337514500,  27733156208\n",
              "2      27961899505,  27733156208\n",
              "3       5772973535,  27733156208\n",
              "4      27733156208,  13580068590\n",
              "...             ...          ...\n",
              "10530   3188424467,   5557754898\n",
              "10531   3188424467,   5763414441\n",
              "10532   3188424467,  31450672398\n",
              "10533   3188424467,   3685838615\n",
              "10534   3188424467,   1435555268\n",
              "\n",
              "[10535 rows x 2 columns]"
            ]
          },
          "metadata": {
            "tags": []
          },
          "execution_count": 13
        }
      ]
    },
    {
      "cell_type": "code",
      "metadata": {
        "id": "0NFi-X-1Sf7Y",
        "colab_type": "code",
        "colab": {
          "base_uri": "https://localhost:8080/",
          "height": 402
        },
        "outputId": "cea54093-f416-4d8d-a26b-508d5b109ad4"
      },
      "source": [
        "add_df = add_df.rename(columns={'start_1': 'start'})\n",
        "add_df"
      ],
      "execution_count": 14,
      "outputs": [
        {
          "output_type": "execute_result",
          "data": {
            "text/html": [
              "<div>\n",
              "<style scoped>\n",
              "    .dataframe tbody tr th:only-of-type {\n",
              "        vertical-align: middle;\n",
              "    }\n",
              "\n",
              "    .dataframe tbody tr th {\n",
              "        vertical-align: top;\n",
              "    }\n",
              "\n",
              "    .dataframe thead th {\n",
              "        text-align: right;\n",
              "    }\n",
              "</style>\n",
              "<table border=\"1\" class=\"dataframe\">\n",
              "  <thead>\n",
              "    <tr style=\"text-align: right;\">\n",
              "      <th></th>\n",
              "      <th>start</th>\n",
              "      <th>end</th>\n",
              "    </tr>\n",
              "  </thead>\n",
              "  <tbody>\n",
              "    <tr>\n",
              "      <th>0</th>\n",
              "      <td>13580068590,</td>\n",
              "      <td>27733156208</td>\n",
              "    </tr>\n",
              "    <tr>\n",
              "      <th>1</th>\n",
              "      <td>13337514500,</td>\n",
              "      <td>27733156208</td>\n",
              "    </tr>\n",
              "    <tr>\n",
              "      <th>2</th>\n",
              "      <td>27961899505,</td>\n",
              "      <td>27733156208</td>\n",
              "    </tr>\n",
              "    <tr>\n",
              "      <th>3</th>\n",
              "      <td>5772973535,</td>\n",
              "      <td>27733156208</td>\n",
              "    </tr>\n",
              "    <tr>\n",
              "      <th>4</th>\n",
              "      <td>27733156208,</td>\n",
              "      <td>13580068590</td>\n",
              "    </tr>\n",
              "    <tr>\n",
              "      <th>...</th>\n",
              "      <td>...</td>\n",
              "      <td>...</td>\n",
              "    </tr>\n",
              "    <tr>\n",
              "      <th>10530</th>\n",
              "      <td>3188424467,</td>\n",
              "      <td>5557754898</td>\n",
              "    </tr>\n",
              "    <tr>\n",
              "      <th>10531</th>\n",
              "      <td>3188424467,</td>\n",
              "      <td>5763414441</td>\n",
              "    </tr>\n",
              "    <tr>\n",
              "      <th>10532</th>\n",
              "      <td>3188424467,</td>\n",
              "      <td>31450672398</td>\n",
              "    </tr>\n",
              "    <tr>\n",
              "      <th>10533</th>\n",
              "      <td>3188424467,</td>\n",
              "      <td>3685838615</td>\n",
              "    </tr>\n",
              "    <tr>\n",
              "      <th>10534</th>\n",
              "      <td>3188424467,</td>\n",
              "      <td>1435555268</td>\n",
              "    </tr>\n",
              "  </tbody>\n",
              "</table>\n",
              "<p>10535 rows × 2 columns</p>\n",
              "</div>"
            ],
            "text/plain": [
              "              start          end\n",
              "0      13580068590,  27733156208\n",
              "1      13337514500,  27733156208\n",
              "2      27961899505,  27733156208\n",
              "3       5772973535,  27733156208\n",
              "4      27733156208,  13580068590\n",
              "...             ...          ...\n",
              "10530   3188424467,   5557754898\n",
              "10531   3188424467,   5763414441\n",
              "10532   3188424467,  31450672398\n",
              "10533   3188424467,   3685838615\n",
              "10534   3188424467,   1435555268\n",
              "\n",
              "[10535 rows x 2 columns]"
            ]
          },
          "metadata": {
            "tags": []
          },
          "execution_count": 14
        }
      ]
    },
    {
      "cell_type": "code",
      "metadata": {
        "id": "fguOGDcOSwMN",
        "colab_type": "code",
        "colab": {}
      },
      "source": [
        "add_df.to_csv(\"/content/gdrive/My Drive/프로젝트/network/cc_txt.csv\", index=False)"
      ],
      "execution_count": 16,
      "outputs": []
    }
  ]
}