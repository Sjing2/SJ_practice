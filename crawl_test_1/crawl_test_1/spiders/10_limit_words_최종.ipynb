{
  "nbformat": 4,
  "nbformat_minor": 0,
  "metadata": {
    "colab": {
      "name": "10_limit_words_최종.ipynb",
      "provenance": [],
      "authorship_tag": "ABX9TyM9GuLIwA/GHm06h6NcGnpJ",
      "include_colab_link": true
    },
    "kernelspec": {
      "name": "python3",
      "display_name": "Python 3"
    }
  },
  "cells": [
    {
      "cell_type": "markdown",
      "metadata": {
        "id": "view-in-github",
        "colab_type": "text"
      },
      "source": [
        "<a href=\"https://colab.research.google.com/github/Sjing2/SJ_practice/blob/master/crawl_test_1/crawl_test_1/spiders/10_limit_words_%EC%B5%9C%EC%A2%85.ipynb\" target=\"_parent\"><img src=\"https://colab.research.google.com/assets/colab-badge.svg\" alt=\"Open In Colab\"/></a>"
      ]
    },
    {
      "cell_type": "code",
      "metadata": {
        "id": "8qTIf6z_REZt",
        "colab_type": "code",
        "colab": {}
      },
      "source": [
        "import pandas as pd"
      ],
      "execution_count": 1,
      "outputs": []
    },
    {
      "cell_type": "code",
      "metadata": {
        "id": "GkVMGl_SRiIs",
        "colab_type": "code",
        "colab": {
          "base_uri": "https://localhost:8080/",
          "height": 125
        },
        "outputId": "ce59abaa-c853-4bee-aeab-b07c6b1b18a3"
      },
      "source": [
        "from google.colab import drive\n",
        "drive.mount('/content/gdrive/')"
      ],
      "execution_count": 2,
      "outputs": [
        {
          "output_type": "stream",
          "text": [
            "Go to this URL in a browser: https://accounts.google.com/o/oauth2/auth?client_id=947318989803-6bn6qk8qdgf4n4g3pfee6491hc0brc4i.apps.googleusercontent.com&redirect_uri=urn%3aietf%3awg%3aoauth%3a2.0%3aoob&scope=email%20https%3a%2f%2fwww.googleapis.com%2fauth%2fdocs.test%20https%3a%2f%2fwww.googleapis.com%2fauth%2fdrive%20https%3a%2f%2fwww.googleapis.com%2fauth%2fdrive.photos.readonly%20https%3a%2f%2fwww.googleapis.com%2fauth%2fpeopleapi.readonly&response_type=code\n",
            "\n",
            "Enter your authorization code:\n",
            "··········\n",
            "Mounted at /content/gdrive/\n"
          ],
          "name": "stdout"
        }
      ]
    },
    {
      "cell_type": "code",
      "metadata": {
        "id": "LVE0fheVRiLW",
        "colab_type": "code",
        "colab": {}
      },
      "source": [
        "# 경로\n",
        "df = pd.read_csv('/content/gdrive/My Drive/인스타그램_프로파일링/Post/Delete(foreign, over1000)/2. delete_over1000/cc_delete_over_1000.csv', index_col =[0])"
      ],
      "execution_count": 3,
      "outputs": []
    },
    {
      "cell_type": "code",
      "metadata": {
        "id": "XAvNdkeWRiNk",
        "colab_type": "code",
        "colab": {
          "base_uri": "https://localhost:8080/",
          "height": 34
        },
        "outputId": "c018479e-2e34-4cc4-bdd1-e6f16eb521fb"
      },
      "source": [
        "print('포스트 개수: {} , 유저 명수: {}'.format(len(df['content']),len(list(set(df['inner_id'])))))"
      ],
      "execution_count": 4,
      "outputs": [
        {
          "output_type": "stream",
          "text": [
            "포스트 개수: 24669 , 유저 명수: 1210\n"
          ],
          "name": "stdout"
        }
      ]
    },
    {
      "cell_type": "code",
      "metadata": {
        "id": "ANleWISqRiP3",
        "colab_type": "code",
        "colab": {}
      },
      "source": [
        "limit_words = ['문의', 'DM', '고객님', '완판', '이벤트', '콜라보', '납품', '광고', '구매', '매진', '할인', '홍보', '협찬', '수입', '행사', '출시', '런칭', '론칭', '입양', '한정기획', '원플원', '스마트스토어', '발매', '품절', '체험단', '운영중', '오픈시간', '티져영상', '예약', '공식쇼핑몰', '본점', '캠페인', '인스타친구', '사업', '협회', '재입고', '최대지원금', '최저가', '요금', '지급', '개시', '입점', '작가', '자수', '아저씨넷', '네일']"
      ],
      "execution_count": 5,
      "outputs": []
    },
    {
      "cell_type": "code",
      "metadata": {
        "id": "p3mTL5yLRiSh",
        "colab_type": "code",
        "colab": {}
      },
      "source": [
        "idx = []\n",
        "id_list = []\n",
        "word_cnt = 2 # 광고 단어 포함 횟수\n",
        "\n",
        "for i, content in enumerate(df['content']):\n",
        "    cnt = 0\n",
        "    for word in limit_words:\n",
        "        if word in str(content):\n",
        "            cnt += 1\n",
        "            if cnt == word_cnt:\n",
        "                id_list.append(df['inner_id'][i])\n",
        "                idx.append(i)\n",
        "                break"
      ],
      "execution_count": 6,
      "outputs": []
    },
    {
      "cell_type": "code",
      "metadata": {
        "id": "1Sj_NhHQRiWg",
        "colab_type": "code",
        "colab": {
          "base_uri": "https://localhost:8080/",
          "height": 34
        },
        "outputId": "a7a83292-cafa-4eae-c44f-7730ef126f2d"
      },
      "source": [
        "print('제거된 포스트 개수: {}, 제거된 유저 명수: {}'.format(len(idx), len(list(set(id_list)))))"
      ],
      "execution_count": 7,
      "outputs": [
        {
          "output_type": "stream",
          "text": [
            "제거된 포스트 개수: 399, 제거된 유저 명수: 103\n"
          ],
          "name": "stdout"
        }
      ]
    },
    {
      "cell_type": "code",
      "metadata": {
        "id": "Y9ephs5lRiY8",
        "colab_type": "code",
        "colab": {}
      },
      "source": [
        "for user_id in id_list:\n",
        "    df = df[df['inner_id']!=user_id]\n",
        "df.reset_index(inplace=True, drop=True)"
      ],
      "execution_count": 8,
      "outputs": []
    },
    {
      "cell_type": "code",
      "metadata": {
        "id": "YCXi6Q30RiVB",
        "colab_type": "code",
        "colab": {
          "base_uri": "https://localhost:8080/",
          "height": 34
        },
        "outputId": "b89a8309-9da5-493a-94ea-cc8408cb7de1"
      },
      "source": [
        "print('남은 유저 명수: {}'.format(len(list(set(df['inner_id'])))))"
      ],
      "execution_count": 9,
      "outputs": [
        {
          "output_type": "stream",
          "text": [
            "남은 유저 명수: 1107\n"
          ],
          "name": "stdout"
        }
      ]
    },
    {
      "cell_type": "code",
      "metadata": {
        "id": "JDDX8d2lRwNL",
        "colab_type": "code",
        "colab": {}
      },
      "source": [
        "df.to_csv('/content/gdrive/My Drive/인스타그램_프로파일링/Post/Delete(foreign, over1000)/3. delete_businessword/cc_word.csv')"
      ],
      "execution_count": 10,
      "outputs": []
    }
  ]
}