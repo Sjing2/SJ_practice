{
  "nbformat": 4,
  "nbformat_minor": 0,
  "metadata": {
    "kernelspec": {
      "display_name": "Python 3",
      "language": "python",
      "name": "python3"
    },
    "language_info": {
      "codemirror_mode": {
        "name": "ipython",
        "version": 3
      },
      "file_extension": ".py",
      "mimetype": "text/x-python",
      "name": "python",
      "nbconvert_exporter": "python",
      "pygments_lexer": "ipython3",
      "version": "3.7.6"
    },
    "colab": {
      "name": "11_CNM모델 파헤치기_snap.ipynb",
      "provenance": [],
      "collapsed_sections": [],
      "include_colab_link": true
    }
  },
  "cells": [
    {
      "cell_type": "markdown",
      "metadata": {
        "id": "view-in-github",
        "colab_type": "text"
      },
      "source": [
        "<a href=\"https://colab.research.google.com/github/Sjing2/SJ_practice/blob/master/crawl_test_1/crawl_test_1/spiders/11_CNM%EB%AA%A8%EB%8D%B8_%ED%8C%8C%ED%97%A4%EC%B9%98%EA%B8%B0_snap.ipynb\" target=\"_parent\"><img src=\"https://colab.research.google.com/assets/colab-badge.svg\" alt=\"Open In Colab\"/></a>"
      ]
    },
    {
      "cell_type": "code",
      "metadata": {
        "id": "OuXsCUth9OT_",
        "colab_type": "code",
        "colab": {
          "base_uri": "https://localhost:8080/",
          "height": 105
        },
        "outputId": "3a23c6f6-0642-465a-e2b2-eb66023ccf87"
      },
      "source": [
        "!pip install snap-stanford"
      ],
      "execution_count": 1,
      "outputs": [
        {
          "output_type": "stream",
          "text": [
            "Collecting snap-stanford\n",
            "\u001b[?25l  Downloading https://files.pythonhosted.org/packages/0d/18/4694293d1d58ee92a1f85fa09b4b1348b849d1f35470cf296b238fa20a8d/snap_stanford-5.0.0-cp36-cp36m-manylinux1_x86_64.whl (11.2MB)\n",
            "\u001b[K     |████████████████████████████████| 11.2MB 3.7MB/s \n",
            "\u001b[?25hInstalling collected packages: snap-stanford\n",
            "Successfully installed snap-stanford-5.0.0\n"
          ],
          "name": "stdout"
        }
      ]
    },
    {
      "cell_type": "code",
      "metadata": {
        "id": "m2gBt0OW9VSe",
        "colab_type": "code",
        "colab": {
          "base_uri": "https://localhost:8080/",
          "height": 125
        },
        "outputId": "5b995cd9-74f2-46dc-e8cb-e91b11876341"
      },
      "source": [
        "from google.colab import drive\n",
        "drive.mount('/content/gdrive/')"
      ],
      "execution_count": 2,
      "outputs": [
        {
          "output_type": "stream",
          "text": [
            "Go to this URL in a browser: https://accounts.google.com/o/oauth2/auth?client_id=947318989803-6bn6qk8qdgf4n4g3pfee6491hc0brc4i.apps.googleusercontent.com&redirect_uri=urn%3aietf%3awg%3aoauth%3a2.0%3aoob&scope=email%20https%3a%2f%2fwww.googleapis.com%2fauth%2fdocs.test%20https%3a%2f%2fwww.googleapis.com%2fauth%2fdrive%20https%3a%2f%2fwww.googleapis.com%2fauth%2fdrive.photos.readonly%20https%3a%2f%2fwww.googleapis.com%2fauth%2fpeopleapi.readonly&response_type=code\n",
            "\n",
            "Enter your authorization code:\n",
            "··········\n",
            "Mounted at /content/gdrive/\n"
          ],
          "name": "stdout"
        }
      ]
    },
    {
      "cell_type": "code",
      "metadata": {
        "id": "z2oeuPCJ9OUE",
        "colab_type": "code",
        "colab": {}
      },
      "source": [
        "import pandas as pd\n",
        "import numpy as np"
      ],
      "execution_count": 3,
      "outputs": []
    },
    {
      "cell_type": "code",
      "metadata": {
        "scrolled": false,
        "id": "5MCHTwj_9OUI",
        "colab_type": "code",
        "colab": {
          "base_uri": "https://localhost:8080/",
          "height": 579
        },
        "outputId": "e12c1cd8-ca5c-4ea0-c145-9a430ed2b754"
      },
      "source": [
        "## 충청 파일로 돌린거\n",
        "\n",
        "import snap\n",
        "import matplotlib.pyplot as plt\n",
        "\n",
        "G1 = snap.LoadEdgeList(snap.PUNGraph, \"/content/gdrive/My Drive/프로젝트/cc_2.txt\", 0, 1) # PUNGraph -> 다른걸로 조정가능한듯?\n",
        "\n",
        "print(\"G1: Nodes %d, Edges %d\" % (G1.GetNodes(), G1.GetEdges()))\n",
        "print(\"Number of Nodes: %d\" % G1.GetNodes())\n",
        "\n",
        "# 1.6 number of nodes of zero degree\n",
        "print(\"Number of nodes of zero degree: %d\" % snap.CntDegNodes(G1, 0))\n",
        "\n",
        "# Get in degree distribution\n",
        "DegToCntV = snap.TIntPrV()\n",
        "snap.GetDegCnt(G1, DegToCntV)\n",
        "degree = []\n",
        "numNodes = []\n",
        "sumDegrees = 0\n",
        "for item in DegToCntV:\n",
        "    degree.append(item.GetVal1())\n",
        "    numNodes.append(item.GetVal2())\n",
        "    sumDegrees += item.GetVal1()*item.GetVal2()\n",
        "    #print(\"%d nodes with in-degree %d\" % (item.GetVal2(), item.GetVal1()))\n",
        "\n",
        "plt.plot(degree, numNodes)\n",
        "plt.yscale('log')\n",
        "plt.xscale('log')\n",
        "plt.ylabel('frequency')\n",
        "plt.xlabel('degree')\n",
        "plt.title('Degree distribution')\n",
        "plt.savefig('degreeDist.png')\n",
        "plt.clf()\n",
        "\n",
        "# Get average degree\n",
        "print(\"Average degree:\", sumDegrees/float(sum(numNodes)))\n",
        "\n",
        "# Get largest strongly connected component\n",
        "MxScc = snap.GetMxScc(G1)\n",
        "print(\"Size of largest strongly connected component:\", MxScc.GetNodes())\n",
        "\n",
        "# Get strongly connected components\n",
        "Components = snap.TCnComV()\n",
        "snap.GetWccs(G1, Components)\n",
        "wcc_sizes = []\n",
        "for CnCom in Components:\n",
        "    wcc_sizes.append(CnCom.Len())\n",
        "\n",
        "print(\"Number of connected components:\", len(wcc_sizes))\n",
        "\n",
        "# Clauset-Newman-Moore community detection\n",
        "CmtyV = snap.TCnComV()\n",
        "modularity = snap.CommunityCNM(G1, CmtyV)\n",
        "count = 0\n",
        "sizes = []\n",
        "communities = []\n",
        "for Cmty in CmtyV:\n",
        "    listcmty = []\n",
        "    for NI in Cmty:\n",
        "        listcmty.append(NI)\n",
        "\n",
        "    communities.append(listcmty)\n",
        "    count += 1\n",
        "    sizes.append(len(listcmty))\n",
        "print(\"Number of communities:\", count)\n",
        "print(\"Largest community:\", max(sizes))\n",
        "print(\"Smallest community:\", min(sizes))\n",
        "print(\"Community 4:\", communities[4])\n",
        "print(\"Community 11:\", communities[11])\n",
        "print(\"Community 21:\", communities[21])\n",
        "print(\"Community 36:\", communities[36])\n",
        "\n",
        "# plot histogram of community sizes\n",
        "sizes.sort()\n",
        "plt.hist(sizes, log=True)\n",
        "plt.xlabel(\"Size of community\")\n",
        "plt.ylabel(\"Number of communities\")\n",
        "plt.title(\"Sizes of CNM communities\")\n",
        "plt.show()\n",
        "plt.savefig(\"cnm-sizes.png\")\n",
        "#print(\"Size of communities:\", sizes)\n",
        "print(\"The modularity of the network is %f\" % modularity)"
      ],
      "execution_count": 5,
      "outputs": [
        {
          "output_type": "stream",
          "text": [
            "G1: Nodes 6002, Edges 6204\n",
            "Number of Nodes: 6002\n",
            "Number of nodes of zero degree: 0\n",
            "Average degree: 2.0673108963678772\n",
            "Size of largest strongly connected component: 4813\n",
            "Number of connected components: 14\n",
            "Number of communities: 55\n",
            "Largest community: 251\n",
            "Smallest community: 3\n",
            "Community 4: [950216795, 819657458, 1303329532, 665481825, 334278857, -672996477, 1446929037, 372603223, 1360855002, 781462702, 1127312106, -118411192, -2104014443, 1179822620, -1499910330, 1256070142, 606511721, 1956376964, 1121842136, -1752158723, -604343307, -83895585, -71654611, 1271296792, 1021296758, -1586843482, -2060323666, 1089868848, 1483413108, -1652367269, 871731054, -78685833, 699785411, -396592961, 1449549278, -802252594, -733880170, 1247627659, 41720441, -632293987, -330804260, -1265712045, 1619869665, 1269263207, -1117326596, 1653231723, 1127175046, 1492711388, -43430948, 1921871617, 273306393, 2002607245, 468789687, -73041076, 2099222085, 1633190465, -1602208570, 1966209948, 1476896117, 1139617015, -685107486, -447951036, 1041401, 1481095245, -203516367, 521663931, -125401306, 294613467, 1400185233, -1989283533, -910241406, -1937960439, 703520458, -1907569955, 656509692, -270891446, 1520109215, -1823067091, 471901195, -1496082229, 1633681945, 1558142054, -1840106142, -70123750, -1090091602, -1893158201, -224538377, 766303860, -564657478, -1556353554, -1880129304, -1357454050]\n",
            "Community 11: [-231875612, -774000699, 1092003039, -1804927920, 1520169545, -1134383805, 257464905, -430457701, 976908390, -695259523, 575473622, -1233189823, -1002139036, -1734881794, 894877863, 1524558193, 713617855, -577123942, -1052383478, 962782298, -765410043, -1801902258, 731821434, -1717026797, 1178344007, 601394958, -76993008, -1477065161, 2048521133, 487127728, 1930031569, -153787088, -1106592194, 430468557]\n",
            "Community 21: [-1447053484, 2035945117, 38787143, -1975832267, -640612404, -796011354, 371903418, 2139740053, 643100875, -1021147623, 565449941, -2058178716, 1588681769, -719452963, -745597247, 1976708127, -603588559, 84328262, 2057171037, -2034881779, -312660260, -594238208, 1073860967, 1297531669, 1738798540, -530580198, 1348335372, 674792201, 781918392, 1180785470, 1869613078, 1320357634, 355228620, 1627844507, -613794854, -1788308061, -1971960383, 1564496116, 3451355, -593324575, -2106459075, 843250550, 819706833, 292445581, -143437778, 1698618179, -1234383878, -1316546328, -1186201119, 277928793, -31181047, -1688279571, 1442149976, -702897048, 1702642483, 1970158274, 1442770178, -356124859, 1756533650, 396240449, 1184502747]\n",
            "Community 36: [-1927852659, 1507294497, -1799348285, -1464554389, 1101916885, -481945459, 180021844, -1016625568, 266008987, -857573551, -471681132, 1663075158, -2105968898, -1972547842, -920015571, 1215086550, 43639767, -1057345911, -553891273, 1573219297, -1769359008, 2115378707, -2042556693, 1015527191, -479526643, -160308692, -624922688, 982255103, -1217547581, -1026923941, 1228552613, -564174674, -152554825, 1268527261, 1237172112, -200938461, 1245513835, -1149952080, -1614206976, -935786958, 1529384335, -1460782938, -394416037, -608022892, 1258080288, 1457627818, -80124401, -207643564, 1242893786, 852358968, 2130097403, 1602059873, 2124655488, -1361911262, -1019228621, -1205337028, -1385802550, 1787956922, 194959678, -793989223, 1431510109, 1500127314, -144762873, -628237355, -660422429, -1315202322, -1245500595, -1859920716, 1332437160]\n"
          ],
          "name": "stdout"
        },
        {
          "output_type": "display_data",
          "data": {
            "image/png": "[encoded data removed]",
            "text/plain": [
              "<Figure size 432x288 with 1 Axes>"
            ]
          },
          "metadata": {
            "tags": [],
            "needs_background": "light"
          }
        },
        {
          "output_type": "stream",
          "text": [
            "The modularity of the network is 0.950107\n"
          ],
          "name": "stdout"
        },
        {
          "output_type": "display_data",
          "data": {
            "text/plain": [
              "<Figure size 432x288 with 0 Axes>"
            ]
          },
          "metadata": {
            "tags": []
          }
        }
      ]
    },
    {
      "cell_type": "code",
      "metadata": {
        "id": "6N-lSbz39OUM",
        "colab_type": "code",
        "colab": {},
        "outputId": "ec534c46-ba5a-4e76-e1e7-91d965acb25e"
      },
      "source": [
        "## github에 있는 데이터\n",
        "\n",
        "import snap\n",
        "import matplotlib.pyplot as plt\n",
        "\n",
        "G1 = snap.LoadEdgeList(snap.PUNGraph, \"sample.txt\", 0, 1) # PUNGraph -> 다른걸로 조정가능한듯?\n",
        "\n",
        "print(\"G1: Nodes %d, Edges %d\" % (G1.GetNodes(), G1.GetEdges()))\n",
        "print(\"Number of Nodes: %d\" % G1.GetNodes())\n",
        "\n",
        "# 1.6 number of nodes of zero degree\n",
        "print(\"Number of nodes of zero degree: %d\" % snap.CntDegNodes(G1, 0))\n",
        "\n",
        "# Get in degree distribution\n",
        "DegToCntV = snap.TIntPrV()\n",
        "snap.GetDegCnt(G1, DegToCntV)\n",
        "degree = []\n",
        "numNodes = []\n",
        "sumDegrees = 0\n",
        "for item in DegToCntV:\n",
        "    degree.append(item.GetVal1())\n",
        "    numNodes.append(item.GetVal2())\n",
        "    sumDegrees += item.GetVal1()*item.GetVal2()\n",
        "    #print(\"%d nodes with in-degree %d\" % (item.GetVal2(), item.GetVal1()))\n",
        "\n",
        "plt.plot(degree, numNodes)\n",
        "plt.yscale('log')\n",
        "plt.xscale('log')\n",
        "plt.ylabel('frequency')\n",
        "plt.xlabel('degree')\n",
        "plt.title('Degree distribution')\n",
        "plt.savefig('degreeDist.png')\n",
        "plt.clf()\n",
        "\n",
        "# Get average degree\n",
        "print(\"Average degree:\", sumDegrees/float(sum(numNodes)))\n",
        "\n",
        "# Get largest strongly connected component\n",
        "MxScc = snap.GetMxScc(G1)\n",
        "print(\"Size of largest strongly connected component:\", MxScc.GetNodes())\n",
        "\n",
        "# Get strongly connected components\n",
        "Components = snap.TCnComV()\n",
        "snap.GetWccs(G1, Components)\n",
        "wcc_sizes = []\n",
        "for CnCom in Components:\n",
        "    wcc_sizes.append(CnCom.Len())\n",
        "\n",
        "print(\"Number of connected components:\", len(wcc_sizes))\n",
        "\n",
        "# Clauset-Newman-Moore community detection\n",
        "CmtyV = snap.TCnComV()\n",
        "modularity = snap.CommunityCNM(G1, CmtyV)\n",
        "count = 0\n",
        "sizes = []\n",
        "communities = []\n",
        "for Cmty in CmtyV:\n",
        "    listcmty = []\n",
        "    for NI in Cmty:\n",
        "        listcmty.append(NI)\n",
        "\n",
        "    communities.append(listcmty)\n",
        "    count += 1\n",
        "    sizes.append(len(listcmty))\n",
        "print(\"Number of communities:\", count)\n",
        "print(\"Largest community:\", max(sizes))\n",
        "print(\"Smallest community:\", min(sizes))\n",
        "print(\"Community 21:\", communities[21])\n",
        "print(\"Community 101:\", communities[101])\n",
        "print(\"Community 10,000:\", communities[10000])\n",
        "\n",
        "# plot histogram of community sizes\n",
        "sizes.sort()\n",
        "plt.hist(sizes, log=True)\n",
        "plt.xlabel(\"Size of community\")\n",
        "plt.ylabel(\"Number of communities\")\n",
        "plt.title(\"Sizes of CNM communities\")\n",
        "plt.show()\n",
        "plt.savefig(\"cnm-sizes.png\")\n",
        "#print(\"Size of communities:\", sizes)\n",
        "print(\"The modularity of the network is %f\" % modularity)"
      ],
      "execution_count": null,
      "outputs": [
        {
          "output_type": "stream",
          "text": [
            "G1: Nodes 87676, Edges 100000\n",
            "Number of Nodes: 87676\n",
            "Number of nodes of zero degree: 0\n",
            "Average degree: 2.2811259637757195\n",
            "Size of largest strongly connected component: 58801\n",
            "Number of connected components: 11237\n",
            "Number of communities: 11431\n",
            "Largest community: 7280\n",
            "Smallest community: 2\n",
            "Community 21: [179, 183]\n",
            "Community 101: [2496, 2525, 2530, 2511, 2524, 17341, 66647, 71523, 109179]\n",
            "Community 10,000: [184005, 154303]\n"
          ],
          "name": "stdout"
        },
        {
          "output_type": "display_data",
          "data": {
            "image/png": "[encoded data removed]",
            "text/plain": [
              "<Figure size 432x288 with 1 Axes>"
            ]
          },
          "metadata": {
            "tags": [],
            "needs_background": "light"
          }
        },
        {
          "output_type": "stream",
          "text": [
            "The modularity of the network is 0.841188\n"
          ],
          "name": "stdout"
        },
        {
          "output_type": "display_data",
          "data": {
            "text/plain": [
              "<Figure size 432x288 with 0 Axes>"
            ]
          },
          "metadata": {
            "tags": []
          }
        }
      ]
    },
    {
      "cell_type": "code",
      "metadata": {
        "id": "IyMb6MUt9OUQ",
        "colab_type": "code",
        "colab": {}
      },
      "source": [
        ""
      ],
      "execution_count": null,
      "outputs": []
    }
  ]
}