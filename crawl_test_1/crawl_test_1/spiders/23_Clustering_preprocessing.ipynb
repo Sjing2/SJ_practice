{
  "nbformat": 4,
  "nbformat_minor": 0,
  "metadata": {
    "colab": {
      "name": "23_Clustering_preprocessing.ipynb",
      "provenance": [],
      "authorship_tag": "ABX9TyM/msow6sUww6lX3mPZ/J2S",
      "include_colab_link": true
    },
    "kernelspec": {
      "name": "python3",
      "display_name": "Python 3"
    }
  },
  "cells": [
    {
      "cell_type": "markdown",
      "metadata": {
        "id": "view-in-github",
        "colab_type": "text"
      },
      "source": [
        "<a href=\"https://colab.research.google.com/github/Sjing2/SJ_practice/blob/master/crawl_test_1/crawl_test_1/spiders/23_Clustering_preprocessing.ipynb\" target=\"_parent\"><img src=\"https://colab.research.google.com/assets/colab-badge.svg\" alt=\"Open In Colab\"/></a>"
      ]
    },
    {
      "cell_type": "markdown",
      "metadata": {
        "id": "oObxLaQwANrr",
        "colab_type": "text"
      },
      "source": [
        "#snap 모델에 적용하기 위한 데이터 전처리\n",
        "- center_user를 중심으로 수집된 id목록에서 각각의 id들에 고유인덱스 붙여주기\n",
        "- {id : id_index} 사전생성 -> id에 매칭하는 id_index를 snap에서 input data로 활용"
      ]
    },
    {
      "cell_type": "code",
      "metadata": {
        "id": "G1TfatPhAMAG",
        "colab_type": "code",
        "colab": {}
      },
      "source": [
        "import pandas as pd\n",
        "import numpy as np"
      ],
      "execution_count": 1,
      "outputs": []
    },
    {
      "cell_type": "code",
      "metadata": {
        "id": "LVyZmPJdAMjm",
        "colab_type": "code",
        "colab": {
          "base_uri": "https://localhost:8080/",
          "height": 125
        },
        "outputId": "37686ed9-6cc6-4b9c-c38e-4a567dc90151"
      },
      "source": [
        "from google.colab import drive\n",
        "drive.mount('/content/gdrive/')"
      ],
      "execution_count": 2,
      "outputs": [
        {
          "output_type": "stream",
          "text": [
            "Go to this URL in a browser: https://accounts.google.com/o/oauth2/auth?client_id=947318989803-6bn6qk8qdgf4n4g3pfee6491hc0brc4i.apps.googleusercontent.com&redirect_uri=urn%3aietf%3awg%3aoauth%3a2.0%3aoob&scope=email%20https%3a%2f%2fwww.googleapis.com%2fauth%2fdocs.test%20https%3a%2f%2fwww.googleapis.com%2fauth%2fdrive%20https%3a%2f%2fwww.googleapis.com%2fauth%2fdrive.photos.readonly%20https%3a%2f%2fwww.googleapis.com%2fauth%2fpeopleapi.readonly&response_type=code\n",
            "\n",
            "Enter your authorization code:\n",
            "4/4AHxskAz15GZnuOj42hN6rWZmTyPdwWfXsQ9T8MdGYNAmCDfCthiCLY\n",
            "Mounted at /content/gdrive/\n"
          ],
          "name": "stdout"
        }
      ]
    },
    {
      "cell_type": "code",
      "metadata": {
        "id": "YZa8DkQFAMnz",
        "colab_type": "code",
        "colab": {}
      },
      "source": [
        "df = pd.read_csv('/content/gdrive/My Drive/인스타그램_프로파일링/Relation(start, end)/cc_2.csv')"
      ],
      "execution_count": 3,
      "outputs": []
    },
    {
      "cell_type": "code",
      "metadata": {
        "id": "LAzbNG4LAMqK",
        "colab_type": "code",
        "colab": {
          "base_uri": "https://localhost:8080/",
          "height": 402
        },
        "outputId": "ec408529-916a-405a-d2b6-95922f01a619"
      },
      "source": [
        "df"
      ],
      "execution_count": 4,
      "outputs": [
        {
          "output_type": "execute_result",
          "data": {
            "text/html": [
              "<div>\n",
              "<style scoped>\n",
              "    .dataframe tbody tr th:only-of-type {\n",
              "        vertical-align: middle;\n",
              "    }\n",
              "\n",
              "    .dataframe tbody tr th {\n",
              "        vertical-align: top;\n",
              "    }\n",
              "\n",
              "    .dataframe thead th {\n",
              "        text-align: right;\n",
              "    }\n",
              "</style>\n",
              "<table border=\"1\" class=\"dataframe\">\n",
              "  <thead>\n",
              "    <tr style=\"text-align: right;\">\n",
              "      <th></th>\n",
              "      <th>start</th>\n",
              "      <th>end</th>\n",
              "    </tr>\n",
              "  </thead>\n",
              "  <tbody>\n",
              "    <tr>\n",
              "      <th>0</th>\n",
              "      <td>13580068590</td>\n",
              "      <td>27733156208</td>\n",
              "    </tr>\n",
              "    <tr>\n",
              "      <th>1</th>\n",
              "      <td>13337514500</td>\n",
              "      <td>27733156208</td>\n",
              "    </tr>\n",
              "    <tr>\n",
              "      <th>2</th>\n",
              "      <td>27961899505</td>\n",
              "      <td>27733156208</td>\n",
              "    </tr>\n",
              "    <tr>\n",
              "      <th>3</th>\n",
              "      <td>5772973535</td>\n",
              "      <td>27733156208</td>\n",
              "    </tr>\n",
              "    <tr>\n",
              "      <th>4</th>\n",
              "      <td>27733156208</td>\n",
              "      <td>13580068590</td>\n",
              "    </tr>\n",
              "    <tr>\n",
              "      <th>...</th>\n",
              "      <td>...</td>\n",
              "      <td>...</td>\n",
              "    </tr>\n",
              "    <tr>\n",
              "      <th>10530</th>\n",
              "      <td>3188424467</td>\n",
              "      <td>5557754898</td>\n",
              "    </tr>\n",
              "    <tr>\n",
              "      <th>10531</th>\n",
              "      <td>3188424467</td>\n",
              "      <td>5763414441</td>\n",
              "    </tr>\n",
              "    <tr>\n",
              "      <th>10532</th>\n",
              "      <td>3188424467</td>\n",
              "      <td>31450672398</td>\n",
              "    </tr>\n",
              "    <tr>\n",
              "      <th>10533</th>\n",
              "      <td>3188424467</td>\n",
              "      <td>3685838615</td>\n",
              "    </tr>\n",
              "    <tr>\n",
              "      <th>10534</th>\n",
              "      <td>3188424467</td>\n",
              "      <td>1435555268</td>\n",
              "    </tr>\n",
              "  </tbody>\n",
              "</table>\n",
              "<p>10535 rows × 2 columns</p>\n",
              "</div>"
            ],
            "text/plain": [
              "             start          end\n",
              "0      13580068590  27733156208\n",
              "1      13337514500  27733156208\n",
              "2      27961899505  27733156208\n",
              "3       5772973535  27733156208\n",
              "4      27733156208  13580068590\n",
              "...            ...          ...\n",
              "10530   3188424467   5557754898\n",
              "10531   3188424467   5763414441\n",
              "10532   3188424467  31450672398\n",
              "10533   3188424467   3685838615\n",
              "10534   3188424467   1435555268\n",
              "\n",
              "[10535 rows x 2 columns]"
            ]
          },
          "metadata": {
            "tags": []
          },
          "execution_count": 4
        }
      ]
    },
    {
      "cell_type": "code",
      "metadata": {
        "id": "pT0Zj4Z6AMsN",
        "colab_type": "code",
        "colab": {}
      },
      "source": [
        "# start칼럼 추출\n",
        "start_df = df.drop('end', axis =1)"
      ],
      "execution_count": 5,
      "outputs": []
    },
    {
      "cell_type": "code",
      "metadata": {
        "id": "G-yK_kqhAMw9",
        "colab_type": "code",
        "colab": {
          "base_uri": "https://localhost:8080/",
          "height": 34
        },
        "outputId": "8285dd3b-fdb7-4786-ae71-8763bc0773c5"
      },
      "source": [
        "start_ls = list(np.unique(start_df))\n",
        "len(start_ls)"
      ],
      "execution_count": 6,
      "outputs": [
        {
          "output_type": "execute_result",
          "data": {
            "text/plain": [
              "4512"
            ]
          },
          "metadata": {
            "tags": []
          },
          "execution_count": 6
        }
      ]
    },
    {
      "cell_type": "code",
      "metadata": {
        "id": "JryoN_XoAMv3",
        "colab_type": "code",
        "colab": {}
      },
      "source": [
        "# end칼럼 추출\n",
        "end_df = df.drop('start', axis =1)"
      ],
      "execution_count": 7,
      "outputs": []
    },
    {
      "cell_type": "code",
      "metadata": {
        "id": "cWAQsv15AhO_",
        "colab_type": "code",
        "colab": {
          "base_uri": "https://localhost:8080/",
          "height": 34
        },
        "outputId": "6fec13c3-9c0a-4d41-c0b5-00df073be5b2"
      },
      "source": [
        "end_ls = list(np.unique(end_df))\n",
        "len(end_ls)"
      ],
      "execution_count": 8,
      "outputs": [
        {
          "output_type": "execute_result",
          "data": {
            "text/plain": [
              "5625"
            ]
          },
          "metadata": {
            "tags": []
          },
          "execution_count": 8
        }
      ]
    },
    {
      "cell_type": "code",
      "metadata": {
        "id": "5OKxx76kAhaZ",
        "colab_type": "code",
        "colab": {}
      },
      "source": [
        "# unique id목록 list\n",
        "id_ls = start_ls + end_ls\n",
        "id_uni_ls = list(np.unique(id_ls))"
      ],
      "execution_count": 9,
      "outputs": []
    },
    {
      "cell_type": "code",
      "metadata": {
        "id": "WBE9i9JxAhcr",
        "colab_type": "code",
        "colab": {
          "base_uri": "https://localhost:8080/",
          "height": 34
        },
        "outputId": "11ab69b5-f9dc-4cb3-a189-8c2b6243f6cc"
      },
      "source": [
        "len(id_uni_ls)"
      ],
      "execution_count": 10,
      "outputs": [
        {
          "output_type": "execute_result",
          "data": {
            "text/plain": [
              "8027"
            ]
          },
          "metadata": {
            "tags": []
          },
          "execution_count": 10
        }
      ]
    },
    {
      "cell_type": "markdown",
      "metadata": {
        "id": "8ftjSupeAnkN",
        "colab_type": "text"
      },
      "source": [
        "### {id : idx} 사전 생성"
      ]
    },
    {
      "cell_type": "code",
      "metadata": {
        "id": "c8gGHocXAhfN",
        "colab_type": "code",
        "colab": {}
      },
      "source": [
        "from collections import defaultdict"
      ],
      "execution_count": 11,
      "outputs": []
    },
    {
      "cell_type": "code",
      "metadata": {
        "id": "nYBeMfe7Ahh0",
        "colab_type": "code",
        "colab": {}
      },
      "source": [
        "def id_to_dict(id_ls):\n",
        "    #고유 id와 인덱스를 매칭시켜주는 사전 생성\n",
        "    id2idx_dic = defaultdict(lambda: len(id2idx_dic))\n",
        "\n",
        "    for ide in id_ls:\n",
        "        id2idx_dic[ide]\n",
        "\n",
        "    for i, v in enumerate(id_ls):\n",
        "        index = id2idx_dic[v]\n",
        "\n",
        "    return id2idx_dic"
      ],
      "execution_count": 12,
      "outputs": []
    },
    {
      "cell_type": "code",
      "metadata": {
        "id": "9rJF4hiQArpo",
        "colab_type": "code",
        "colab": {}
      },
      "source": [
        "id2idx_dic = id_to_dict(id_ls)"
      ],
      "execution_count": 13,
      "outputs": []
    },
    {
      "cell_type": "code",
      "metadata": {
        "id": "oMCcfTixArsG",
        "colab_type": "code",
        "colab": {
          "base_uri": "https://localhost:8080/",
          "height": 34
        },
        "outputId": "4dcc5a95-3e69-4b28-ee88-b85603030fcb"
      },
      "source": [
        "len(id2idx_dic)"
      ],
      "execution_count": 14,
      "outputs": [
        {
          "output_type": "execute_result",
          "data": {
            "text/plain": [
              "8027"
            ]
          },
          "metadata": {
            "tags": []
          },
          "execution_count": 14
        }
      ]
    },
    {
      "cell_type": "markdown",
      "metadata": {
        "id": "h-V_o_WSAvik",
        "colab_type": "text"
      },
      "source": [
        "### id를 사전에서 매칭되는 index값으로 변경\n",
        "- id -> index값으로 변경한 후, start와 end를 txt파일로 저장하기"
      ]
    },
    {
      "cell_type": "code",
      "metadata": {
        "id": "h21KWnrjAruq",
        "colab_type": "code",
        "colab": {
          "base_uri": "https://localhost:8080/",
          "height": 402
        },
        "outputId": "ebac8704-aaa8-4cc6-d181-cc0b787b2acc"
      },
      "source": [
        "df # 처리 전"
      ],
      "execution_count": 15,
      "outputs": [
        {
          "output_type": "execute_result",
          "data": {
            "text/html": [
              "<div>\n",
              "<style scoped>\n",
              "    .dataframe tbody tr th:only-of-type {\n",
              "        vertical-align: middle;\n",
              "    }\n",
              "\n",
              "    .dataframe tbody tr th {\n",
              "        vertical-align: top;\n",
              "    }\n",
              "\n",
              "    .dataframe thead th {\n",
              "        text-align: right;\n",
              "    }\n",
              "</style>\n",
              "<table border=\"1\" class=\"dataframe\">\n",
              "  <thead>\n",
              "    <tr style=\"text-align: right;\">\n",
              "      <th></th>\n",
              "      <th>start</th>\n",
              "      <th>end</th>\n",
              "    </tr>\n",
              "  </thead>\n",
              "  <tbody>\n",
              "    <tr>\n",
              "      <th>0</th>\n",
              "      <td>13580068590</td>\n",
              "      <td>27733156208</td>\n",
              "    </tr>\n",
              "    <tr>\n",
              "      <th>1</th>\n",
              "      <td>13337514500</td>\n",
              "      <td>27733156208</td>\n",
              "    </tr>\n",
              "    <tr>\n",
              "      <th>2</th>\n",
              "      <td>27961899505</td>\n",
              "      <td>27733156208</td>\n",
              "    </tr>\n",
              "    <tr>\n",
              "      <th>3</th>\n",
              "      <td>5772973535</td>\n",
              "      <td>27733156208</td>\n",
              "    </tr>\n",
              "    <tr>\n",
              "      <th>4</th>\n",
              "      <td>27733156208</td>\n",
              "      <td>13580068590</td>\n",
              "    </tr>\n",
              "    <tr>\n",
              "      <th>...</th>\n",
              "      <td>...</td>\n",
              "      <td>...</td>\n",
              "    </tr>\n",
              "    <tr>\n",
              "      <th>10530</th>\n",
              "      <td>3188424467</td>\n",
              "      <td>5557754898</td>\n",
              "    </tr>\n",
              "    <tr>\n",
              "      <th>10531</th>\n",
              "      <td>3188424467</td>\n",
              "      <td>5763414441</td>\n",
              "    </tr>\n",
              "    <tr>\n",
              "      <th>10532</th>\n",
              "      <td>3188424467</td>\n",
              "      <td>31450672398</td>\n",
              "    </tr>\n",
              "    <tr>\n",
              "      <th>10533</th>\n",
              "      <td>3188424467</td>\n",
              "      <td>3685838615</td>\n",
              "    </tr>\n",
              "    <tr>\n",
              "      <th>10534</th>\n",
              "      <td>3188424467</td>\n",
              "      <td>1435555268</td>\n",
              "    </tr>\n",
              "  </tbody>\n",
              "</table>\n",
              "<p>10535 rows × 2 columns</p>\n",
              "</div>"
            ],
            "text/plain": [
              "             start          end\n",
              "0      13580068590  27733156208\n",
              "1      13337514500  27733156208\n",
              "2      27961899505  27733156208\n",
              "3       5772973535  27733156208\n",
              "4      27733156208  13580068590\n",
              "...            ...          ...\n",
              "10530   3188424467   5557754898\n",
              "10531   3188424467   5763414441\n",
              "10532   3188424467  31450672398\n",
              "10533   3188424467   3685838615\n",
              "10534   3188424467   1435555268\n",
              "\n",
              "[10535 rows x 2 columns]"
            ]
          },
          "metadata": {
            "tags": []
          },
          "execution_count": 15
        }
      ]
    },
    {
      "cell_type": "code",
      "metadata": {
        "id": "TX4EzP6iArxP",
        "colab_type": "code",
        "colab": {}
      },
      "source": [
        "for i,v in enumerate(df['start']):\n",
        "    for (key, elem) in id2idx_dic.items():\n",
        "        if v == key:\n",
        "            df['start'][i] = elem"
      ],
      "execution_count": 16,
      "outputs": []
    },
    {
      "cell_type": "code",
      "metadata": {
        "id": "zrruQHmyA3uM",
        "colab_type": "code",
        "colab": {}
      },
      "source": [
        "for i,v in enumerate(df['end']):\n",
        "    for (key, elem) in id2idx_dic.items():\n",
        "        if v == key:\n",
        "            df['end'][i] = elem"
      ],
      "execution_count": 17,
      "outputs": []
    },
    {
      "cell_type": "code",
      "metadata": {
        "id": "Xq_E6dw3A3wl",
        "colab_type": "code",
        "colab": {
          "base_uri": "https://localhost:8080/",
          "height": 402
        },
        "outputId": "8483faa5-d8f4-49d6-f27c-a46789409262"
      },
      "source": [
        "df # 처리 후"
      ],
      "execution_count": 18,
      "outputs": [
        {
          "output_type": "execute_result",
          "data": {
            "text/html": [
              "<div>\n",
              "<style scoped>\n",
              "    .dataframe tbody tr th:only-of-type {\n",
              "        vertical-align: middle;\n",
              "    }\n",
              "\n",
              "    .dataframe tbody tr th {\n",
              "        vertical-align: top;\n",
              "    }\n",
              "\n",
              "    .dataframe thead th {\n",
              "        text-align: right;\n",
              "    }\n",
              "</style>\n",
              "<table border=\"1\" class=\"dataframe\">\n",
              "  <thead>\n",
              "    <tr style=\"text-align: right;\">\n",
              "      <th></th>\n",
              "      <th>start</th>\n",
              "      <th>end</th>\n",
              "    </tr>\n",
              "  </thead>\n",
              "  <tbody>\n",
              "    <tr>\n",
              "      <th>0</th>\n",
              "      <td>2974</td>\n",
              "      <td>3581</td>\n",
              "    </tr>\n",
              "    <tr>\n",
              "      <th>1</th>\n",
              "      <td>2945</td>\n",
              "      <td>3581</td>\n",
              "    </tr>\n",
              "    <tr>\n",
              "      <th>2</th>\n",
              "      <td>3598</td>\n",
              "      <td>3581</td>\n",
              "    </tr>\n",
              "    <tr>\n",
              "      <th>3</th>\n",
              "      <td>1651</td>\n",
              "      <td>3581</td>\n",
              "    </tr>\n",
              "    <tr>\n",
              "      <th>4</th>\n",
              "      <td>3581</td>\n",
              "      <td>2974</td>\n",
              "    </tr>\n",
              "    <tr>\n",
              "      <th>...</th>\n",
              "      <td>...</td>\n",
              "      <td>...</td>\n",
              "    </tr>\n",
              "    <tr>\n",
              "      <th>10530</th>\n",
              "      <td>889</td>\n",
              "      <td>6552</td>\n",
              "    </tr>\n",
              "    <tr>\n",
              "      <th>10531</th>\n",
              "      <td>889</td>\n",
              "      <td>6620</td>\n",
              "    </tr>\n",
              "    <tr>\n",
              "      <th>10532</th>\n",
              "      <td>889</td>\n",
              "      <td>7898</td>\n",
              "    </tr>\n",
              "    <tr>\n",
              "      <th>10533</th>\n",
              "      <td>889</td>\n",
              "      <td>6113</td>\n",
              "    </tr>\n",
              "    <tr>\n",
              "      <th>10534</th>\n",
              "      <td>889</td>\n",
              "      <td>5009</td>\n",
              "    </tr>\n",
              "  </tbody>\n",
              "</table>\n",
              "<p>10535 rows × 2 columns</p>\n",
              "</div>"
            ],
            "text/plain": [
              "       start   end\n",
              "0       2974  3581\n",
              "1       2945  3581\n",
              "2       3598  3581\n",
              "3       1651  3581\n",
              "4       3581  2974\n",
              "...      ...   ...\n",
              "10530    889  6552\n",
              "10531    889  6620\n",
              "10532    889  7898\n",
              "10533    889  6113\n",
              "10534    889  5009\n",
              "\n",
              "[10535 rows x 2 columns]"
            ]
          },
          "metadata": {
            "tags": []
          },
          "execution_count": 18
        }
      ]
    },
    {
      "cell_type": "code",
      "metadata": {
        "id": "x0vTHv-HA83I",
        "colab_type": "code",
        "colab": {}
      },
      "source": [
        "df.to_csv('/content/gdrive/My Drive/프로젝트/network/cc_start_end2.txt', index=False, header=None, sep=\" \")"
      ],
      "execution_count": 19,
      "outputs": []
    },
    {
      "cell_type": "markdown",
      "metadata": {
        "id": "0MBI5nS7A--1",
        "colab_type": "text"
      },
      "source": [
        "### 커뮤니티 리스트의 index를 다시 id로 변환"
      ]
    },
    {
      "cell_type": "code",
      "metadata": {
        "id": "TDioeEgTA86G",
        "colab_type": "code",
        "colab": {
          "base_uri": "https://localhost:8080/",
          "height": 34
        },
        "outputId": "fb86a10d-2fdb-45e0-ecd3-e82f93e6cddf"
      },
      "source": [
        "Community_11 = [6121, 5092, 2084, 1688, 7186, 6340, 7597, 6544, 5110, 5914, 6087, 6381, 2576,\n",
        "               4657, 4658, 3880, 784, 4631, 4581, 4378, 1214, 4364, 4257, 1087, 4063, 602, 3215,\n",
        "               1600, 3698, 1864, 3558, 2811, 3498, 3183, 1209, 3279, 1607, 1066, 828, 1522, 1789,\n",
        "               2501, 2346, 2221, 855, 1992, 1972, 1293, 1776, 1896, 5645, 7052, 7205, 7622, 6141,\n",
        "               5870, 5923, 7536, 7139, 5240, 6085, 6680, 7227, 6138, 5209, 5569, 7469, 7260, 6054,\n",
        "               5666, 5485, 6327, 5792, 6696, 6251, 6318, 7351, 6241, 6117, 6660, 6162, 7271, 7003,\n",
        "               6918, 6570, 7437, 7235, 6000, 5676, 7135, 5661, 5702, 6289, 5543, 6860, 6345, 5759,\n",
        "               5550, 5210, 6446, 6836, 5345, 7192, 7189, 6874, 7105, 6940, 6031, 5104, 6848, 5397,\n",
        "               5282, 5097, 6685, 5919, 6463, 5628, 6844, 6198, 6083, 5760, 5326, 6346, 6295, 5640,\n",
        "               5328, 6538, 5117, 4750, 5122, 4748, 5065, 6134, 1616, 5570, 6265, 5794, 6161, 5382,\n",
        "               5171, 6172, 5338]\n",
        "len(Community_11)"
      ],
      "execution_count": 20,
      "outputs": [
        {
          "output_type": "execute_result",
          "data": {
            "text/plain": [
              "142"
            ]
          },
          "metadata": {
            "tags": []
          },
          "execution_count": 20
        }
      ]
    },
    {
      "cell_type": "code",
      "metadata": {
        "id": "NyK7s-dSA89k",
        "colab_type": "code",
        "colab": {}
      },
      "source": [
        "def transform_id(ls, dictionary):\n",
        "    for i,idx in enumerate(ls):\n",
        "        for (key, elem) in dictionary.items():\n",
        "            if idx == elem:\n",
        "                ls[i] = key\n",
        "    return ls"
      ],
      "execution_count": 21,
      "outputs": []
    },
    {
      "cell_type": "code",
      "metadata": {
        "id": "J8OFp5-JBEyK",
        "colab_type": "code",
        "colab": {
          "base_uri": "https://localhost:8080/",
          "height": 1000
        },
        "outputId": "4f58463a-fb34-4da7-f174-2b45dfbca919"
      },
      "source": [
        "transform_id(Community_11, id2idx_dic)"
      ],
      "execution_count": 22,
      "outputs": [
        {
          "output_type": "execute_result",
          "data": {
            "text/plain": [
              "[3718164407,\n",
              " 1496829078,\n",
              " 7339383475,\n",
              " 5867153383,\n",
              " 8539103155,\n",
              " 4480562868,\n",
              " 17773924950,\n",
              " 5531255709,\n",
              " 1509018757,\n",
              " 3120330711,\n",
              " 3632329197,\n",
              " 4592170390,\n",
              " 9288379520,\n",
              " 462752227,\n",
              " 464124115,\n",
              " 31983800078,\n",
              " 2955200228,\n",
              " 370846042,\n",
              " 216110818,\n",
              " 39006029761,\n",
              " 4188929040,\n",
              " 38880920594,\n",
              " 37336776136,\n",
              " 3880081215,\n",
              " 34387920468,\n",
              " 2231527770,\n",
              " 18965126257,\n",
              " 5648555517,\n",
              " 29628271804,\n",
              " 6607320264,\n",
              " 27436032300,\n",
              " 11563768429,\n",
              " 26301372551,\n",
              " 18261459664,\n",
              " 4179344710,\n",
              " 21026379793,\n",
              " 5656210288,\n",
              " 3676927271,\n",
              " 3046536456,\n",
              " 5461623011,\n",
              " 6223839663,\n",
              " 8892589714,\n",
              " 8308505066,\n",
              " 7867791568,\n",
              " 3119753800,\n",
              " 7080971886,\n",
              " 7013764231,\n",
              " 4372680899,\n",
              " 6165954452,\n",
              " 6726512171,\n",
              " 2239574041,\n",
              " 7912818922,\n",
              " 8631679660,\n",
              " 19045873444,\n",
              " 3910694746,\n",
              " 3019479486,\n",
              " 3154864396,\n",
              " 14718215454,\n",
              " 8327299745,\n",
              " 1643577836,\n",
              " 3621970819,\n",
              " 6003193008,\n",
              " 8770599828,\n",
              " 3898060691,\n",
              " 1595142347,\n",
              " 2126107440,\n",
              " 12803183954,\n",
              " 9162755526,\n",
              " 3567406737,\n",
              " 2268138288,\n",
              " 2003605247,\n",
              " 4458875249,\n",
              " 2766271686,\n",
              " 6069642451,\n",
              " 4191989223,\n",
              " 4394596181,\n",
              " 10572821925,\n",
              " 4172221055,\n",
              " 3702035366,\n",
              " 5897027169,\n",
              " 3997665537,\n",
              " 9229175560,\n",
              " 7552920378,\n",
              " 7109440842,\n",
              " 5607759432,\n",
              " 12138077010,\n",
              " 8901908046,\n",
              " 3461989976,\n",
              " 2273563836,\n",
              " 8293574749,\n",
              " 2261725140,\n",
              " 2297529618,\n",
              " 4276267311,\n",
              " 2092447733,\n",
              " 6921893835,\n",
              " 4491931781,\n",
              " 2442748722,\n",
              " 2101114864,\n",
              " 1595239835,\n",
              " 4856961851,\n",
              " 6837775869,\n",
              " 1778128622,\n",
              " 8573529290,\n",
              " 8551020527,\n",
              " 6956530734,\n",
              " 8167814923,\n",
              " 7213554272,\n",
              " 3533580439,\n",
              " 1506146529,\n",
              " 6888742412,\n",
              " 1910752985,\n",
              " 1698618179,\n",
              " 1499879597,\n",
              " 6017954788,\n",
              " 3134343994,\n",
              " 4953595761,\n",
              " 2221342319,\n",
              " 6872699830,\n",
              " 4070753344,\n",
              " 3618210456,\n",
              " 2467238679,\n",
              " 1752489826,\n",
              " 4499469343,\n",
              " 4292248344,\n",
              " 2234643630,\n",
              " 1756614351,\n",
              " 5504270505,\n",
              " 1515896107,\n",
              " 811242398,\n",
              " 1517953645,\n",
              " 799950200,\n",
              " 1474886680,\n",
              " 3879369176,\n",
              " 5679206892,\n",
              " 2126423203,\n",
              " 4220458917,\n",
              " 2773590780,\n",
              " 3983914656,\n",
              " 1835556682,\n",
              " 1559168210,\n",
              " 4024075850,\n",
              " 1773729536]"
            ]
          },
          "metadata": {
            "tags": []
          },
          "execution_count": 22
        }
      ]
    }
  ]
}