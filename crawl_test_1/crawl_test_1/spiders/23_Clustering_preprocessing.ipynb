{
  "nbformat": 4,
  "nbformat_minor": 0,
  "metadata": {
    "colab": {
      "name": "23_Clustering_preprocessing.ipynb",
      "provenance": [],
      "authorship_tag": "ABX9TyNRILtOt/mxKDCxWMAopkWS",
      "include_colab_link": true
    },
    "kernelspec": {
      "name": "python3",
      "display_name": "Python 3"
    }
  },
  "cells": [
    {
      "cell_type": "markdown",
      "metadata": {
        "id": "view-in-github",
        "colab_type": "text"
      },
      "source": [
        "<a href=\"https://colab.research.google.com/github/Sjing2/SJ_practice/blob/master/crawl_test_1/crawl_test_1/spiders/23_Clustering_preprocessing.ipynb\" target=\"_parent\"><img src=\"https://colab.research.google.com/assets/colab-badge.svg\" alt=\"Open In Colab\"/></a>"
      ]
    },
    {
      "cell_type": "markdown",
      "metadata": {
        "id": "oObxLaQwANrr",
        "colab_type": "text"
      },
      "source": [
        "#snap 모델에 적용하기 위한 데이터 전처리\n",
        "- center_user를 중심으로 수집된 id목록에서 각각의 id들에 고유인덱스 붙여주기\n",
        "- {id : id_index} 사전생성 -> id에 매칭하는 id_index를 snap에서 input data로 활용"
      ]
    },
    {
      "cell_type": "code",
      "metadata": {
        "id": "G1TfatPhAMAG",
        "colab_type": "code",
        "colab": {}
      },
      "source": [
        "import pandas as pd\n",
        "import numpy as np"
      ],
      "execution_count": null,
      "outputs": []
    },
    {
      "cell_type": "code",
      "metadata": {
        "id": "LVyZmPJdAMjm",
        "colab_type": "code",
        "colab": {}
      },
      "source": [
        "from google.colab import drive\n",
        "drive.mount('/content/gdrive/')"
      ],
      "execution_count": null,
      "outputs": []
    },
    {
      "cell_type": "code",
      "metadata": {
        "id": "YZa8DkQFAMnz",
        "colab_type": "code",
        "colab": {}
      },
      "source": [
        "df = pd.read_csv('C:\\Users\\haech\\Desktop\\insta_project_data\\gw_2.csv')"
      ],
      "execution_count": null,
      "outputs": []
    },
    {
      "cell_type": "code",
      "metadata": {
        "id": "LAzbNG4LAMqK",
        "colab_type": "code",
        "colab": {}
      },
      "source": [
        "df"
      ],
      "execution_count": null,
      "outputs": []
    },
    {
      "cell_type": "code",
      "metadata": {
        "id": "pT0Zj4Z6AMsN",
        "colab_type": "code",
        "colab": {}
      },
      "source": [
        "# start칼럼 추출\n",
        "start_df = df.drop('end', axis =1)"
      ],
      "execution_count": null,
      "outputs": []
    },
    {
      "cell_type": "code",
      "metadata": {
        "id": "G-yK_kqhAMw9",
        "colab_type": "code",
        "colab": {}
      },
      "source": [
        "start_ls = list(np.unique(start_df))\n",
        "len(start_ls)"
      ],
      "execution_count": null,
      "outputs": []
    },
    {
      "cell_type": "code",
      "metadata": {
        "id": "JryoN_XoAMv3",
        "colab_type": "code",
        "colab": {}
      },
      "source": [
        "# end칼럼 추출\n",
        "end_df = df.drop('start', axis =1)"
      ],
      "execution_count": null,
      "outputs": []
    },
    {
      "cell_type": "code",
      "metadata": {
        "id": "cWAQsv15AhO_",
        "colab_type": "code",
        "colab": {}
      },
      "source": [
        "end_ls = list(np.unique(end_df))\n",
        "len(end_ls)"
      ],
      "execution_count": null,
      "outputs": []
    },
    {
      "cell_type": "code",
      "metadata": {
        "id": "5OKxx76kAhaZ",
        "colab_type": "code",
        "colab": {}
      },
      "source": [
        "# unique id목록 list\n",
        "id_ls = start_ls + end_ls\n",
        "id_uni_ls = list(np.unique(id_ls))"
      ],
      "execution_count": null,
      "outputs": []
    },
    {
      "cell_type": "code",
      "metadata": {
        "id": "WBE9i9JxAhcr",
        "colab_type": "code",
        "colab": {}
      },
      "source": [
        "len(id_uni_ls)"
      ],
      "execution_count": null,
      "outputs": []
    },
    {
      "cell_type": "markdown",
      "metadata": {
        "id": "8ftjSupeAnkN",
        "colab_type": "text"
      },
      "source": [
        "### {id : idx} 사전 생성"
      ]
    },
    {
      "cell_type": "code",
      "metadata": {
        "id": "c8gGHocXAhfN",
        "colab_type": "code",
        "colab": {}
      },
      "source": [
        "from collections import defaultdict"
      ],
      "execution_count": null,
      "outputs": []
    },
    {
      "cell_type": "code",
      "metadata": {
        "id": "nYBeMfe7Ahh0",
        "colab_type": "code",
        "colab": {}
      },
      "source": [
        "def id_to_dict(id_ls):\n",
        "    #고유 id와 인덱스를 매칭시켜주는 사전 생성\n",
        "    id2idx_dic = defaultdict(lambda: len(id2idx_dic))\n",
        "\n",
        "    for ide in id_ls:\n",
        "        id2idx_dic[ide]\n",
        "\n",
        "    for i, v in enumerate(id_ls):\n",
        "        index = id2idx_dic[v]"
      ],
      "execution_count": null,
      "outputs": []
    },
    {
      "cell_type": "code",
      "metadata": {
        "id": "9rJF4hiQArpo",
        "colab_type": "code",
        "colab": {}
      },
      "source": [
        "id_to_dict(id_ls)"
      ],
      "execution_count": null,
      "outputs": []
    },
    {
      "cell_type": "code",
      "metadata": {
        "id": "oMCcfTixArsG",
        "colab_type": "code",
        "colab": {}
      },
      "source": [
        "len(id2idx_dic)"
      ],
      "execution_count": null,
      "outputs": []
    },
    {
      "cell_type": "markdown",
      "metadata": {
        "id": "h-V_o_WSAvik",
        "colab_type": "text"
      },
      "source": [
        "### id를 사전에서 매칭되는 index값으로 변경\n",
        "- id -> index값으로 변경한 후, start와 end를 txt파일로 저장하기"
      ]
    },
    {
      "cell_type": "code",
      "metadata": {
        "id": "h21KWnrjAruq",
        "colab_type": "code",
        "colab": {}
      },
      "source": [
        "df # 처리 전"
      ],
      "execution_count": null,
      "outputs": []
    },
    {
      "cell_type": "code",
      "metadata": {
        "id": "TX4EzP6iArxP",
        "colab_type": "code",
        "colab": {}
      },
      "source": [
        "for i,v in enumerate(df['start']):\n",
        "    for (key, elem) in id2idx_dic.items():\n",
        "        if v == key:\n",
        "            df['start'][i] = elem"
      ],
      "execution_count": null,
      "outputs": []
    },
    {
      "cell_type": "code",
      "metadata": {
        "id": "zrruQHmyA3uM",
        "colab_type": "code",
        "colab": {}
      },
      "source": [
        "for i,v in enumerate(df['end']):\n",
        "    for (key, elem) in id2idx_dic.items():\n",
        "        if v == key:\n",
        "            df['end'][i] = elem"
      ],
      "execution_count": null,
      "outputs": []
    },
    {
      "cell_type": "code",
      "metadata": {
        "id": "Xq_E6dw3A3wl",
        "colab_type": "code",
        "colab": {}
      },
      "source": [
        "df # 처리 후"
      ],
      "execution_count": null,
      "outputs": []
    },
    {
      "cell_type": "code",
      "metadata": {
        "id": "x0vTHv-HA83I",
        "colab_type": "code",
        "colab": {}
      },
      "source": [
        "df.to_csv('gw_start_end.txt', index=False, header=None, sep=\"\\t\")"
      ],
      "execution_count": null,
      "outputs": []
    },
    {
      "cell_type": "markdown",
      "metadata": {
        "id": "0MBI5nS7A--1",
        "colab_type": "text"
      },
      "source": [
        "### 커뮤니티 리스트의 index를 다시 id로 변환"
      ]
    },
    {
      "cell_type": "code",
      "metadata": {
        "id": "TDioeEgTA86G",
        "colab_type": "code",
        "colab": {}
      },
      "source": [
        "Community_11 = [6121, 5092, 2084, 1688, 7186, 6340, 7597, 6544, 5110, 5914, 6087, 6381, 2576,\n",
        "               4657, 4658, 3880, 784, 4631, 4581, 4378, 1214, 4364, 4257, 1087, 4063, 602, 3215,\n",
        "               1600, 3698, 1864, 3558, 2811, 3498, 3183, 1209, 3279, 1607, 1066, 828, 1522, 1789,\n",
        "               2501, 2346, 2221, 855, 1992, 1972, 1293, 1776, 1896, 5645, 7052, 7205, 7622, 6141,\n",
        "               5870, 5923, 7536, 7139, 5240, 6085, 6680, 7227, 6138, 5209, 5569, 7469, 7260, 6054,\n",
        "               5666, 5485, 6327, 5792, 6696, 6251, 6318, 7351, 6241, 6117, 6660, 6162, 7271, 7003,\n",
        "               6918, 6570, 7437, 7235, 6000, 5676, 7135, 5661, 5702, 6289, 5543, 6860, 6345, 5759,\n",
        "               5550, 5210, 6446, 6836, 5345, 7192, 7189, 6874, 7105, 6940, 6031, 5104, 6848, 5397,\n",
        "               5282, 5097, 6685, 5919, 6463, 5628, 6844, 6198, 6083, 5760, 5326, 6346, 6295, 5640,\n",
        "               5328, 6538, 5117, 4750, 5122, 4748, 5065, 6134, 1616, 5570, 6265, 5794, 6161, 5382,\n",
        "               5171, 6172, 5338]\n",
        "len(Community_11)"
      ],
      "execution_count": null,
      "outputs": []
    },
    {
      "cell_type": "code",
      "metadata": {
        "id": "NyK7s-dSA89k",
        "colab_type": "code",
        "colab": {}
      },
      "source": [
        "def transform_id(ls, dictionary):\n",
        "    for i,idx in enumerate(ls):\n",
        "        for (key, elem) in dictionary.items():\n",
        "            if idx == elem:\n",
        "                ls[i] = key\n",
        "    return ls"
      ],
      "execution_count": null,
      "outputs": []
    },
    {
      "cell_type": "code",
      "metadata": {
        "id": "J8OFp5-JBEyK",
        "colab_type": "code",
        "colab": {}
      },
      "source": [
        "transform_id(Community_11, id2idx_dic)"
      ],
      "execution_count": null,
      "outputs": []
    }
  ]
}