{
  "nbformat": 4,
  "nbformat_minor": 0,
  "metadata": {
    "kernelspec": {
      "display_name": "Python 3",
      "language": "python",
      "name": "python3"
    },
    "language_info": {
      "codemirror_mode": {
        "name": "ipython",
        "version": 3
      },
      "file_extension": ".py",
      "mimetype": "text/x-python",
      "name": "python",
      "nbconvert_exporter": "python",
      "pygments_lexer": "ipython3",
      "version": "3.7.6"
    },
    "colab": {
      "name": "cc_clustering.ipynb",
      "provenance": [],
      "include_colab_link": true
    }
  },
  "cells": [
    {
      "cell_type": "markdown",
      "metadata": {
        "id": "view-in-github",
        "colab_type": "text"
      },
      "source": [
        "<a href=\"https://colab.research.google.com/github/Sjing2/SJ_practice/blob/master/crawl_test_1/crawl_test_1/spiders/22_cc_clustering.ipynb\" target=\"_parent\"><img src=\"https://colab.research.google.com/assets/colab-badge.svg\" alt=\"Open In Colab\"/></a>"
      ]
    },
    {
      "cell_type": "code",
      "metadata": {
        "id": "GRMwpfWAvIN5",
        "colab_type": "code",
        "colab": {}
      },
      "source": [
        "# 코랩은 오류남 주피터에서 열어볼 것"
      ],
      "execution_count": null,
      "outputs": []
    },
    {
      "cell_type": "code",
      "metadata": {
        "id": "9i2eWKi7vIOA",
        "colab_type": "code",
        "colab": {},
        "outputId": "ac7746e7-594a-41f6-9b90-4084efe09ab3"
      },
      "source": [
        "pip install graphistry"
      ],
      "execution_count": null,
      "outputs": [
        {
          "output_type": "stream",
          "text": [
            "Collecting graphistry\n",
            "  Downloading graphistry-0.12.0.tar.gz (58 kB)\n",
            "Requirement already satisfied: numpy in c:\\users\\sojeo\\anaconda3\\lib\\site-packages (from graphistry) (1.18.1)\n",
            "Requirement already satisfied: pandas>=0.17.0 in c:\\users\\sojeo\\anaconda3\\lib\\site-packages (from graphistry) (1.0.1)\n",
            "Collecting pyarrow>=0.15.0\n",
            "  Downloading pyarrow-1.0.1-cp37-cp37m-win_amd64.whl (10.5 MB)\n",
            "Requirement already satisfied: requests in c:\\users\\sojeo\\anaconda3\\lib\\site-packages (from graphistry) (2.22.0)\n",
            "Requirement already satisfied: future>=0.15.0 in c:\\users\\sojeo\\anaconda3\\lib\\site-packages (from graphistry) (0.18.2)\n",
            "Collecting protobuf>=2.6.0\n",
            "  Downloading protobuf-3.13.0-cp37-cp37m-win_amd64.whl (1.0 MB)\n",
            "Requirement already satisfied: python-dateutil>=2.6.1 in c:\\users\\sojeo\\anaconda3\\lib\\site-packages (from pandas>=0.17.0->graphistry) (2.8.1)\n",
            "Requirement already satisfied: pytz>=2017.2 in c:\\users\\sojeo\\anaconda3\\lib\\site-packages (from pandas>=0.17.0->graphistry) (2019.3)\n",
            "Requirement already satisfied: urllib3!=1.25.0,!=1.25.1,<1.26,>=1.21.1 in c:\\users\\sojeo\\anaconda3\\lib\\site-packages (from requests->graphistry) (1.25.8)\n",
            "Requirement already satisfied: certifi>=2017.4.17 in c:\\users\\sojeo\\anaconda3\\lib\\site-packages (from requests->graphistry) (2019.11.28)\n",
            "Requirement already satisfied: chardet<3.1.0,>=3.0.2 in c:\\users\\sojeo\\anaconda3\\lib\\site-packages (from requests->graphistry) (3.0.4)\n",
            "Requirement already satisfied: idna<2.9,>=2.5 in c:\\users\\sojeo\\anaconda3\\lib\\site-packages (from requests->graphistry) (2.8)\n",
            "Requirement already satisfied: setuptools in c:\\users\\sojeo\\anaconda3\\lib\\site-packages (from protobuf>=2.6.0->graphistry) (45.2.0.post20200210)\n",
            "Requirement already satisfied: six>=1.9 in c:\\users\\sojeo\\anaconda3\\lib\\site-packages (from protobuf>=2.6.0->graphistry) (1.14.0)\n",
            "Building wheels for collected packages: graphistry\n",
            "  Building wheel for graphistry (setup.py): started\n",
            "  Building wheel for graphistry (setup.py): finished with status 'done'\n",
            "  Created wheel for graphistry: filename=graphistry-0.12.0-py2.py3-none-any.whl size=38643 sha256=452ca3c2f717dece076f325b67dd02878062ddf6ff6ac2d73e8aac5fb1976755\n",
            "  Stored in directory: c:\\users\\sojeo\\appdata\\local\\pip\\cache\\wheels\\bc\\e1\\06\\ea97dadf4fcfdd549ba5a4d5e8a038d65cfeb0d3e8f6dba9d9\n",
            "Successfully built graphistry\n",
            "Installing collected packages: pyarrow, protobuf, graphistry\n",
            "Successfully installed graphistry-0.12.0 protobuf-3.13.0 pyarrow-1.0.1\n",
            "Note: you may need to restart the kernel to use updated packages.\n"
          ],
          "name": "stdout"
        }
      ]
    },
    {
      "cell_type": "code",
      "metadata": {
        "id": "m1Us0hEUvIOF",
        "colab_type": "code",
        "colab": {}
      },
      "source": [
        "import graphistry\n",
        "import pandas as pd"
      ],
      "execution_count": null,
      "outputs": []
    },
    {
      "cell_type": "code",
      "metadata": {
        "id": "egEPJdx0vIOJ",
        "colab_type": "code",
        "colab": {},
        "outputId": "0fd0afd6-8e18-427b-b4a8-68db71a33d95"
      },
      "source": [
        "graphistry.register(api=3, protocol=\"https\", server=\"hub.graphistry.com\", username=\"Szing2\", password=\"#nayana310\")\n",
        "graphistry.edges(pd.read_csv(r'C:\\Users\\sojeo\\cc.txt', delimiter=' ')).bind(source='start', destination='end').plot()"
      ],
      "execution_count": null,
      "outputs": [
        {
          "output_type": "execute_result",
          "data": {
            "text/html": [
              "\n",
              "            <iframe id=\"95118c8a-feca-4e1a-b785-a1992e9fbc62\" src=\"https://hub.graphistry.com/graph/graph.html?dataset=f8dcedbf18a24e83af0f6d7af69884a0&type=arrow&viztoken=0c530bac-9440-4170-bb1b-8fa6866e1b14&usertag=7f1bc267-pygraphistry-0.12.0&splashAfter=1599634660&info=true\"\n",
              "                    allowfullscreen=\"true\" webkitallowfullscreen=\"true\" mozallowfullscreen=\"true\"\n",
              "                    oallowfullscreen=\"true\" msallowfullscreen=\"true\"\n",
              "                    style=\"width:100%; height:500px; border: 1px solid #DDD; overflow: hidden\">\n",
              "            </iframe>\n",
              "        \n",
              "            <script>\n",
              "                $(\"#95118c8a-feca-4e1a-b785-a1992e9fbc62\").bind('mousewheel', function(e) {\n",
              "                e.preventDefault();\n",
              "                });\n",
              "            </script>\n",
              "        "
            ],
            "text/plain": [
              "<IPython.core.display.HTML object>"
            ]
          },
          "metadata": {
            "tags": []
          },
          "execution_count": 4
        }
      ]
    },
    {
      "cell_type": "code",
      "metadata": {
        "id": "S2RN7VKBvIOM",
        "colab_type": "code",
        "colab": {}
      },
      "source": [
        ""
      ],
      "execution_count": null,
      "outputs": []
    }
  ]
}