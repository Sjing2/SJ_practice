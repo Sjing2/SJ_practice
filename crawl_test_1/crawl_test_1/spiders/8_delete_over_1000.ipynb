{
  "nbformat": 4,
  "nbformat_minor": 0,
  "metadata": {
    "colab": {
      "name": "8_delete_over_1000.ipynb",
      "provenance": [],
      "collapsed_sections": [],
      "authorship_tag": "ABX9TyPkvjPJNSfleaUqF8pqPP2s",
      "include_colab_link": true
    },
    "kernelspec": {
      "name": "python3",
      "display_name": "Python 3"
    }
  },
  "cells": [
    {
      "cell_type": "markdown",
      "metadata": {
        "id": "view-in-github",
        "colab_type": "text"
      },
      "source": [
        "<a href=\"https://colab.research.google.com/github/Sjing2/SJ_practice/blob/master/crawl_test_1/crawl_test_1/spiders/8_delete_over_1000.ipynb\" target=\"_parent\"><img src=\"https://colab.research.google.com/assets/colab-badge.svg\" alt=\"Open In Colab\"/></a>"
      ]
    },
    {
      "cell_type": "code",
      "metadata": {
        "id": "4uCaMKbL1Ijp",
        "colab_type": "code",
        "colab": {
          "base_uri": "https://localhost:8080/",
          "height": 34
        },
        "outputId": "469fb74a-669c-4ffc-e2cc-87e1d263f75c"
      },
      "source": [
        "from google.colab import drive\n",
        "drive.mount('/content/gdrive/')"
      ],
      "execution_count": 5,
      "outputs": [
        {
          "output_type": "stream",
          "text": [
            "Drive already mounted at /content/gdrive/; to attempt to forcibly remount, call drive.mount(\"/content/gdrive/\", force_remount=True).\n"
          ],
          "name": "stdout"
        }
      ]
    },
    {
      "cell_type": "code",
      "metadata": {
        "id": "914kvRx71UvQ",
        "colab_type": "code",
        "colab": {}
      },
      "source": [
        "import pandas as pd"
      ],
      "execution_count": 6,
      "outputs": []
    },
    {
      "cell_type": "code",
      "metadata": {
        "id": "VDl1Y2Uo1U2o",
        "colab_type": "code",
        "colab": {}
      },
      "source": [
        "# 지역_delete 지역 경로 설정\n",
        "df = pd.read_csv('/content/gdrive/My Drive/인스타그램_프로파일링/Post/Delete(foreign, over1000)/cc_delete.csv', index_col =[0])\n",
        "df.reset_index(inplace=True, drop=True)"
      ],
      "execution_count": 7,
      "outputs": []
    },
    {
      "cell_type": "code",
      "metadata": {
        "id": "16LEQHXb1Uz7",
        "colab_type": "code",
        "colab": {}
      },
      "source": [
        "# limit_follow.py 에서 뽑은 follow 1000이상인 inner_id 경로 설정\n",
        "df_1000 = pd.read_csv('/content/gdrive/My Drive/인스타그램_프로파일링/Post/cc_limit_follow.csv')\n",
        "id_list = list(map(str, list(set(df_1000['inner_id']))))"
      ],
      "execution_count": 9,
      "outputs": []
    },
    {
      "cell_type": "code",
      "metadata": {
        "id": "MeBkmZvW1Usu",
        "colab_type": "code",
        "colab": {}
      },
      "source": [
        "idx = []\n",
        "for i, inner_id in enumerate(df['inner_id']):\n",
        "    if inner_id in id_list:\n",
        "        idx.append(i)\n",
        "\n",
        "df.drop(idx, inplace=True)\n",
        "df.reset_index(inplace=True, drop=True)"
      ],
      "execution_count": 10,
      "outputs": []
    },
    {
      "cell_type": "code",
      "metadata": {
        "id": "2aOCaRYC1hiQ",
        "colab_type": "code",
        "colab": {}
      },
      "source": [
        "df.to_csv('/content/gdrive/My Drive/인스타그램_프로파일링/Post/Delete(foreign, over1000)/cc_delete_over_1000.csv')"
      ],
      "execution_count": 11,
      "outputs": []
    }
  ]
}