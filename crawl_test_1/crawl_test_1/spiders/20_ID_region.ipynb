{
  "nbformat": 4,
  "nbformat_minor": 0,
  "metadata": {
    "colab": {
      "name": "20_ID_region.ipynb",
      "provenance": [],
      "authorship_tag": "ABX9TyOMkG0c+oulShkpDhqvQ5n8",
      "include_colab_link": true
    },
    "kernelspec": {
      "name": "python3",
      "display_name": "Python 3"
    }
  },
  "cells": [
    {
      "cell_type": "markdown",
      "metadata": {
        "id": "view-in-github",
        "colab_type": "text"
      },
      "source": [
        "<a href=\"https://colab.research.google.com/github/Sjing2/SJ_practice/blob/master/crawl_test_1/crawl_test_1/spiders/20_ID_region.ipynb\" target=\"_parent\"><img src=\"https://colab.research.google.com/assets/colab-badge.svg\" alt=\"Open In Colab\"/></a>"
      ]
    },
    {
      "cell_type": "code",
      "metadata": {
        "id": "Wet6y-3mx165",
        "colab_type": "code",
        "colab": {}
      },
      "source": [
        "import pandas as pd\n",
        "import numpy as np"
      ],
      "execution_count": 1,
      "outputs": []
    },
    {
      "cell_type": "code",
      "metadata": {
        "id": "oklg7PtKyinh",
        "colab_type": "code",
        "colab": {
          "base_uri": "https://localhost:8080/",
          "height": 125
        },
        "outputId": "78cef7e4-4d8c-427e-efd0-814e6865ec48"
      },
      "source": [
        "from google.colab import drive\n",
        "drive.mount('/content/gdrive/')"
      ],
      "execution_count": 2,
      "outputs": [
        {
          "output_type": "stream",
          "text": [
            "Go to this URL in a browser: https://accounts.google.com/o/oauth2/auth?client_id=947318989803-6bn6qk8qdgf4n4g3pfee6491hc0brc4i.apps.googleusercontent.com&redirect_uri=urn%3aietf%3awg%3aoauth%3a2.0%3aoob&scope=email%20https%3a%2f%2fwww.googleapis.com%2fauth%2fdocs.test%20https%3a%2f%2fwww.googleapis.com%2fauth%2fdrive%20https%3a%2f%2fwww.googleapis.com%2fauth%2fdrive.photos.readonly%20https%3a%2f%2fwww.googleapis.com%2fauth%2fpeopleapi.readonly&response_type=code\n",
            "\n",
            "Enter your authorization code:\n",
            "··········\n",
            "Mounted at /content/gdrive/\n"
          ],
          "name": "stdout"
        }
      ]
    },
    {
      "cell_type": "code",
      "metadata": {
        "id": "EDph9Tgqx3bv",
        "colab_type": "code",
        "colab": {}
      },
      "source": [
        "df = pd.read_csv('/content/gdrive/My Drive/인스타그램_프로파일링/Post/Final/cc_post.csv')"
      ],
      "execution_count": 3,
      "outputs": []
    },
    {
      "cell_type": "code",
      "metadata": {
        "id": "BUpIGj2Lx3ix",
        "colab_type": "code",
        "colab": {}
      },
      "source": [
        "words = ['여행', '출장', '본가', '휴가', '호캉스', '바캉스', '투어', '펜션', '호텔', '숙박', '공항', '픽업', '해수욕장', 'MT', '엠티', '객실']"
      ],
      "execution_count": 4,
      "outputs": []
    },
    {
      "cell_type": "code",
      "metadata": {
        "id": "eFTzNFsBx3nU",
        "colab_type": "code",
        "colab": {}
      },
      "source": [
        "# content 내 words 포함된 단어의 index\n",
        "idx_content = []\n",
        "\n",
        "for i, v in enumerate(df['content']):\n",
        "    for w in words:\n",
        "        if w in str(v):\n",
        "            idx_content.append(i)"
      ],
      "execution_count": 5,
      "outputs": []
    },
    {
      "cell_type": "code",
      "metadata": {
        "id": "tXjRFiQXx3lo",
        "colab_type": "code",
        "colab": {}
      },
      "source": [
        "# hashtag 내 words 포함된 단어의 index\n",
        "idx_hashtag = []\n",
        "\n",
        "for i, v in enumerate(df['hashtag']):\n",
        "    for w in words:\n",
        "        if w in str(v):\n",
        "            idx_hashtag.append(i)"
      ],
      "execution_count": 6,
      "outputs": []
    },
    {
      "cell_type": "code",
      "metadata": {
        "id": "YAC9xlALx3ht",
        "colab_type": "code",
        "colab": {
          "base_uri": "https://localhost:8080/",
          "height": 34
        },
        "outputId": "9a67f552-dd69-424b-c560-04b6c6a1f394"
      },
      "source": [
        "# idx_content와 idx_hashtag에 중복으로 있는 index 제거 후 new_df로 저장\n",
        "idx = []\n",
        "idx.extend(idx_content)\n",
        "idx.extend(idx_hashtag)\n",
        "idx = list(set(idx))\n",
        "print('words가 포함된 post 수: {}'.format(len(idx)))"
      ],
      "execution_count": 7,
      "outputs": [
        {
          "output_type": "stream",
          "text": [
            "words가 포함된 post 수: 8519\n"
          ],
          "name": "stdout"
        }
      ]
    },
    {
      "cell_type": "code",
      "metadata": {
        "id": "-utd45KbyCaO",
        "colab_type": "code",
        "colab": {}
      },
      "source": [
        "new_df = df.drop(idx)\n",
        "new_df.reset_index(drop=True, inplace=True)"
      ],
      "execution_count": 8,
      "outputs": []
    },
    {
      "cell_type": "code",
      "metadata": {
        "id": "SOpdOmBLyCg3",
        "colab_type": "code",
        "colab": {
          "base_uri": "https://localhost:8080/",
          "height": 34
        },
        "outputId": "86ab96f9-22b3-41eb-980e-a05474f6726e"
      },
      "source": [
        "print('기존 post수: {}, 제거 후 post 수: {}'.format(len(df), len(new_df)))"
      ],
      "execution_count": 9,
      "outputs": [
        {
          "output_type": "stream",
          "text": [
            "기존 post수: 110588, 제거 후 post 수: 102069\n"
          ],
          "name": "stdout"
        }
      ]
    },
    {
      "cell_type": "code",
      "metadata": {
        "id": "eKosmjHqyCgK",
        "colab_type": "code",
        "colab": {}
      },
      "source": [
        "# 각 id의 region_tag추출. nan값은 제거."
      ],
      "execution_count": 10,
      "outputs": []
    },
    {
      "cell_type": "code",
      "metadata": {
        "id": "rfD4ieYVyCX4",
        "colab_type": "code",
        "colab": {}
      },
      "source": [
        "id_list = np.unique(new_df['insta_id'])"
      ],
      "execution_count": 11,
      "outputs": []
    },
    {
      "cell_type": "code",
      "metadata": {
        "id": "UFKjCNMbx3gN",
        "colab_type": "code",
        "colab": {}
      },
      "source": [
        "region = []\n",
        "\n",
        "for i in id_list:\n",
        "    region_tag = []\n",
        "    for j in new_df[new_df['insta_id']==i]['region_tag']:\n",
        "        try:\n",
        "            np.isnan(j)\n",
        "        except:\n",
        "            region_tag.append(j)\n",
        "    region.append(region_tag)"
      ],
      "execution_count": 12,
      "outputs": []
    },
    {
      "cell_type": "code",
      "metadata": {
        "id": "FJXjmVHlyJbV",
        "colab_type": "code",
        "colab": {}
      },
      "source": [
        "id_region = dict(zip(id_list, region))"
      ],
      "execution_count": 13,
      "outputs": []
    },
    {
      "cell_type": "code",
      "metadata": {
        "id": "YZ-nnSMzyJd5",
        "colab_type": "code",
        "colab": {}
      },
      "source": [
        "# 모든 content가 nan값인 id 제거\n",
        "id_delete = []\n",
        "\n",
        "for i in id_region:\n",
        "    if len(id_region[i]) == 0:\n",
        "        id_delete.append(i)"
      ],
      "execution_count": 14,
      "outputs": []
    },
    {
      "cell_type": "code",
      "metadata": {
        "id": "kdPJRAAFyJhD",
        "colab_type": "code",
        "colab": {
          "base_uri": "https://localhost:8080/",
          "height": 34
        },
        "outputId": "d1841ec4-0686-4c5e-ba12-3c0bc28dcb34"
      },
      "source": [
        "print('모든 content가 nan값인 id 수: {}'.format(len(id_delete)))"
      ],
      "execution_count": 15,
      "outputs": [
        {
          "output_type": "stream",
          "text": [
            "모든 content가 nan값인 id 수: 6\n"
          ],
          "name": "stdout"
        }
      ]
    },
    {
      "cell_type": "code",
      "metadata": {
        "id": "KfHm43l5yQjU",
        "colab_type": "code",
        "colab": {}
      },
      "source": [
        "for i in id_delete:\n",
        "    id_region.pop(i)"
      ],
      "execution_count": 16,
      "outputs": []
    },
    {
      "cell_type": "code",
      "metadata": {
        "id": "FERhEaZZyQmc",
        "colab_type": "code",
        "colab": {}
      },
      "source": [
        "# 저장\n",
        "blank = pd.DataFrame(['' for i in range(len(id_region.keys()))], columns = ['region'])\n",
        "ids = pd.DataFrame(list(id_region.keys()), columns = ['insta_id'])\n",
        "regions = pd.DataFrame(list(id_region.values()))"
      ],
      "execution_count": 17,
      "outputs": []
    },
    {
      "cell_type": "code",
      "metadata": {
        "id": "cTFuSUEhyQte",
        "colab_type": "code",
        "colab": {}
      },
      "source": [
        "final = pd.concat([blank, ids, regions], axis = 1)"
      ],
      "execution_count": 18,
      "outputs": []
    },
    {
      "cell_type": "code",
      "metadata": {
        "id": "9uDvILQTyQgu",
        "colab_type": "code",
        "colab": {}
      },
      "source": [
        "final.to_csv('/content/gdrive/My Drive/프로젝트/cc_post_final/cc_id_region.csv', index=False)"
      ],
      "execution_count": 19,
      "outputs": []
    }
  ]
}